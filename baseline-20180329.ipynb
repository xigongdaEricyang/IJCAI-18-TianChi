{
 "cells": [
  {
   "cell_type": "code",
   "execution_count": 2,
   "metadata": {},
   "outputs": [],
   "source": [
    "import import_ipynb\n",
    "from sklearn.preprocessing import Imputer, MinMaxScaler, OneHotEncoder, LabelEncoder\n",
    "from sklearn.utils import shuffle\n",
    "import numpy as np\n",
    "import itertools\n",
    "import pandas as pd\n",
    "import collections\n",
    "from scipy import sparse\n",
    "import time\n",
    "from scipy.sparse import csr_matrix, save_npz, load_npz, hstack\n",
    "import warnings\n",
    "import lightgbm as lgb\n",
    "from sklearn.model_selection import GridSearchCV\n",
    "\n",
    "from loadData import raw_df, test_df\n",
    "from Util import getAllTypesofCategory, getAllTypesOfProperty\n",
    "\n",
    "warnings.filterwarnings('ignore')"
   ]
  },
  {
   "cell_type": "code",
   "execution_count": 3,
   "metadata": {},
   "outputs": [],
   "source": [
    "final_df = pd.concat([raw_df.drop(['is_trade'], axis = 1), test_df], axis = 0).reset_index(drop=True)"
   ]
  },
  {
   "cell_type": "markdown",
   "metadata": {},
   "source": [
    "# impute missing value"
   ]
  },
  {
   "cell_type": "code",
   "execution_count": 4,
   "metadata": {},
   "outputs": [],
   "source": [
    "contain_missing_value_columns = [\"item_brand_id\",\"item_city_id\",\"item_sales_level\",\"user_gender_id\",\"user_age_level\",\n",
    "                                \"user_occupation_id\",\"user_star_level\",\"shop_review_positive_rate\",\n",
    "                                \"shop_score_service\",\"shop_score_delivery\",\"shop_score_description\"]\n",
    "data_imputer = Imputer(missing_values=-1 , strategy='most_frequent', axis=0)\n",
    "final_df[contain_missing_value_columns] = data_imputer.fit_transform(final_df[contain_missing_value_columns])"
   ]
  },
  {
   "cell_type": "markdown",
   "metadata": {},
   "source": [
    "# preporcessing"
   ]
  },
  {
   "cell_type": "code",
   "execution_count": 5,
   "metadata": {},
   "outputs": [],
   "source": [
    "lbl = LabelEncoder()"
   ]
  },
  {
   "cell_type": "markdown",
   "metadata": {},
   "source": [
    "## Add features"
   ]
  },
  {
   "cell_type": "markdown",
   "metadata": {},
   "source": [
    "### item"
   ]
  },
  {
   "cell_type": "code",
   "execution_count": 6,
   "metadata": {},
   "outputs": [],
   "source": [
    "# len_item_category, len_item_property features\n",
    "final_df['len_item_category'] = final_df['item_category_list'].map(lambda x: len(str(x).split(';')))\n",
    "final_df['len_item_property'] = final_df['item_property_list'].map(lambda x: len(str(x).split(';')))"
   ]
  },
  {
   "cell_type": "code",
   "execution_count": 7,
   "metadata": {},
   "outputs": [],
   "source": [
    "# item_category_1, item_category_2 feature\n",
    "for i in range(1, 3):\n",
    "    final_df['item_category_%d'%(i)] = lbl.fit_transform(final_df['item_category_list'].map(lambda x: str(str(x).split(';')[i]) if len(str(x).split(';')) > i else ''))"
   ]
  },
  {
   "cell_type": "code",
   "execution_count": 8,
   "metadata": {},
   "outputs": [],
   "source": [
    "# item_properties_0 - 9\n",
    "for i in range(10):\n",
    "    final_df['item_properties_%d'%(i)] = lbl.fit_transform(final_df['item_property_list'].map(lambda x: str(str(x).split(';')[i]) if len(str(x).split(';')) > i else ''))"
   ]
  },
  {
   "cell_type": "code",
   "execution_count": 9,
   "metadata": {},
   "outputs": [],
   "source": [
    "# item_id, item_brand_id, item_city_id\n",
    "for col in ['item_id', 'item_brand_id', 'item_city_id']:\n",
    "    final_df[col] = lbl.fit_transform(final_df[col])"
   ]
  },
  {
   "cell_type": "markdown",
   "metadata": {},
   "source": [
    "### user"
   ]
  },
  {
   "cell_type": "code",
   "execution_count": 10,
   "metadata": {},
   "outputs": [],
   "source": [
    "for col in ['user_id']:\n",
    "    final_df[col] = lbl.fit_transform(final_df[col])"
   ]
  },
  {
   "cell_type": "code",
   "execution_count": 11,
   "metadata": {},
   "outputs": [],
   "source": [
    "for i, column in zip(range(1, 6), ['user_age_level', 'user_occupation_id', 'user_star_level', 'context_page_id', 'shop_star_level']):\n",
    "    final_df[column] = final_df[column].apply(lambda item: item%(i*1000))"
   ]
  },
  {
   "cell_type": "markdown",
   "metadata": {},
   "source": [
    "### context"
   ]
  },
  {
   "cell_type": "code",
   "execution_count": 12,
   "metadata": {},
   "outputs": [],
   "source": [
    "final_df['len_predict_category_property'] = final_df['predict_category_property'].map(lambda x: len(str(x).split(';')))"
   ]
  },
  {
   "cell_type": "code",
   "execution_count": 13,
   "metadata": {},
   "outputs": [],
   "source": [
    "for i in range(5):\n",
    "    final_df['predict_category_property' + str(i)] = lbl.fit_transform(final_df['predict_category_property'].map(\n",
    "        lambda x: str(str(x).split(';')[i]) if len(str(x).split(';')) > i else ''))"
   ]
  },
  {
   "cell_type": "markdown",
   "metadata": {},
   "source": [
    "### shop"
   ]
  },
  {
   "cell_type": "code",
   "execution_count": 14,
   "metadata": {},
   "outputs": [],
   "source": [
    "for col in ['shop_id']:\n",
    "    final_df[col] = lbl.fit_transform(final_df[col])"
   ]
  },
  {
   "cell_type": "code",
   "execution_count": 15,
   "metadata": {},
   "outputs": [],
   "source": [
    "final_df['shop_score_delivery0'] = final_df['shop_score_delivery'].apply(lambda x: 0 if x <= 0.98 and x >= 0.96  else 1)"
   ]
  },
  {
   "cell_type": "markdown",
   "metadata": {},
   "source": [
    "### others"
   ]
  },
  {
   "cell_type": "code",
   "execution_count": null,
   "metadata": {},
   "outputs": [],
   "source": [
    "# final_df[['item_category_list', 'predict_categories']]"
   ]
  },
  {
   "cell_type": "code",
   "execution_count": null,
   "metadata": {},
   "outputs": [],
   "source": [
    "# # 'item_category_list', predict_categories\n",
    "# def calc_predict_category_accuracy(row_item):\n",
    "#     num = 0\n",
    "#     predict_categories_list = row_item.predict_categories\n",
    "#     for i in row_item.item_category_list:\n",
    "#         if i in predict_categories_list:\n",
    "#             num += 1\n",
    "#     return round(num/len(predict_categories_list), 2)\n",
    "# final_df['predict_category_accuracy'] = final_df[['item_category_list', 'predict_categories']].apply((lambda item: calc_predict_category_accuracy(item)), axis = 1)"
   ]
  },
  {
   "cell_type": "code",
   "execution_count": 23,
   "metadata": {},
   "outputs": [
    {
     "data": {
      "text/plain": [
       "Index(['instance_id', 'item_id', 'item_category_list', 'item_property_list',\n",
       "       'item_brand_id', 'item_city_id', 'item_price_level', 'item_sales_level',\n",
       "       'item_collected_level', 'item_pv_level', 'user_id', 'user_gender_id',\n",
       "       'user_age_level', 'user_occupation_id', 'user_star_level', 'context_id',\n",
       "       'context_timestamp', 'context_page_id', 'predict_category_property',\n",
       "       'shop_id', 'shop_review_num_level', 'shop_review_positive_rate',\n",
       "       'shop_star_level', 'shop_score_service', 'shop_score_delivery',\n",
       "       'shop_score_description', 'time', 'day', 'hour', 'len_item_category',\n",
       "       'len_item_property', 'item_category_1', 'item_category_2',\n",
       "       'item_properties_0', 'item_properties_1', 'item_properties_2',\n",
       "       'item_properties_3', 'item_properties_4', 'item_properties_5',\n",
       "       'item_properties_6', 'item_properties_7', 'item_properties_8',\n",
       "       'item_properties_9', 'len_predict_category_property',\n",
       "       'predict_category_property0', 'predict_category_property1',\n",
       "       'predict_category_property2', 'predict_category_property3',\n",
       "       'predict_category_property4', 'shop_score_delivery0'],\n",
       "      dtype='object')"
      ]
     },
     "execution_count": 23,
     "metadata": {},
     "output_type": "execute_result"
    }
   ],
   "source": [
    "# final_df.columns"
   ]
  },
  {
   "cell_type": "markdown",
   "metadata": {},
   "source": [
    "## drop features"
   ]
  },
  {
   "cell_type": "code",
   "execution_count": 16,
   "metadata": {},
   "outputs": [],
   "source": [
    "final_df_ = final_df.drop(['instance_id', 'item_category_list', 'item_property_list', 'context_id', 'predict_category_property', 'time', 'context_timestamp'], axis=1)"
   ]
  },
  {
   "cell_type": "markdown",
   "metadata": {},
   "source": [
    "# split data into train, valid and test set, shuffle it"
   ]
  },
  {
   "cell_type": "code",
   "execution_count": 17,
   "metadata": {},
   "outputs": [],
   "source": [
    "train_X, valid_X, test_X = final_df_[final_df.day < 24].as_matrix(), final_df_[final_df.day == 24].as_matrix(), final_df_[final_df.day == 25].as_matrix()\n",
    "train_Y, valid_Y  = raw_df[raw_df.day < 24]['is_trade'].as_matrix(), raw_df[raw_df.day == 24]['is_trade'].as_matrix()"
   ]
  },
  {
   "cell_type": "code",
   "execution_count": 18,
   "metadata": {},
   "outputs": [],
   "source": [
    "train_X, train_Y = shuffle(train_X, train_Y, random_state=0)"
   ]
  },
  {
   "cell_type": "markdown",
   "metadata": {},
   "source": [
    "# Train by LGBM"
   ]
  },
  {
   "cell_type": "code",
   "execution_count": 19,
   "metadata": {},
   "outputs": [],
   "source": [
    "# param_test7 = {\n",
    "# 'n_estimators':[20]\n",
    "# }\n",
    "# clf = GridSearchCV(lgb.LGBMClassifier(objective='binary',\n",
    "#      num_leaves=64,\n",
    "#      learning_rate=0.01,\n",
    "#      n_estimators=2000,\n",
    "#      max_depth=7,\n",
    "#      min_samples_split=100),\n",
    "#      param_test7,\n",
    "#      verbose=1,\n",
    "#      cv=5,\n",
    "#      scoring='log_loss',\n",
    "#      n_jobs=4)\n",
    "# clf.fit(train_X,train_Y)"
   ]
  },
  {
   "cell_type": "code",
   "execution_count": 20,
   "metadata": {
    "scrolled": true
   },
   "outputs": [
    {
     "name": "stdout",
     "output_type": "stream",
     "text": [
      "[1]\tvalid_0's binary_logloss: 0.647778\n",
      "Training until validation scores don't improve for 100 rounds.\n",
      "[2]\tvalid_0's binary_logloss: 0.606733\n",
      "[3]\tvalid_0's binary_logloss: 0.569422\n",
      "[4]\tvalid_0's binary_logloss: 0.53537\n",
      "[5]\tvalid_0's binary_logloss: 0.504199\n",
      "[6]\tvalid_0's binary_logloss: 0.4756\n",
      "[7]\tvalid_0's binary_logloss: 0.449266\n",
      "[8]\tvalid_0's binary_logloss: 0.424959\n",
      "[9]\tvalid_0's binary_logloss: 0.4025\n",
      "[10]\tvalid_0's binary_logloss: 0.381692\n",
      "[11]\tvalid_0's binary_logloss: 0.362412\n",
      "[12]\tvalid_0's binary_logloss: 0.344469\n",
      "[13]\tvalid_0's binary_logloss: 0.327799\n",
      "[14]\tvalid_0's binary_logloss: 0.312267\n",
      "[15]\tvalid_0's binary_logloss: 0.297792\n",
      "[16]\tvalid_0's binary_logloss: 0.284276\n",
      "[17]\tvalid_0's binary_logloss: 0.271652\n",
      "[18]\tvalid_0's binary_logloss: 0.259858\n",
      "[19]\tvalid_0's binary_logloss: 0.248824\n",
      "[20]\tvalid_0's binary_logloss: 0.238495\n",
      "[21]\tvalid_0's binary_logloss: 0.228833\n",
      "[22]\tvalid_0's binary_logloss: 0.219779\n",
      "[23]\tvalid_0's binary_logloss: 0.211291\n",
      "[24]\tvalid_0's binary_logloss: 0.203323\n",
      "[25]\tvalid_0's binary_logloss: 0.195857\n",
      "[26]\tvalid_0's binary_logloss: 0.188859\n",
      "[27]\tvalid_0's binary_logloss: 0.182284\n",
      "[28]\tvalid_0's binary_logloss: 0.17612\n",
      "[29]\tvalid_0's binary_logloss: 0.17032\n",
      "[30]\tvalid_0's binary_logloss: 0.164868\n",
      "[31]\tvalid_0's binary_logloss: 0.159748\n",
      "[32]\tvalid_0's binary_logloss: 0.15493\n",
      "[33]\tvalid_0's binary_logloss: 0.150424\n",
      "[34]\tvalid_0's binary_logloss: 0.146188\n",
      "[35]\tvalid_0's binary_logloss: 0.142197\n",
      "[36]\tvalid_0's binary_logloss: 0.138454\n",
      "[37]\tvalid_0's binary_logloss: 0.134936\n",
      "[38]\tvalid_0's binary_logloss: 0.131634\n",
      "[39]\tvalid_0's binary_logloss: 0.128542\n",
      "[40]\tvalid_0's binary_logloss: 0.125628\n",
      "[41]\tvalid_0's binary_logloss: 0.122884\n",
      "[42]\tvalid_0's binary_logloss: 0.120309\n",
      "[43]\tvalid_0's binary_logloss: 0.117898\n",
      "[44]\tvalid_0's binary_logloss: 0.115621\n",
      "[45]\tvalid_0's binary_logloss: 0.113493\n",
      "[46]\tvalid_0's binary_logloss: 0.111503\n",
      "[47]\tvalid_0's binary_logloss: 0.109626\n",
      "[48]\tvalid_0's binary_logloss: 0.107865\n",
      "[49]\tvalid_0's binary_logloss: 0.106207\n",
      "[50]\tvalid_0's binary_logloss: 0.104661\n",
      "[51]\tvalid_0's binary_logloss: 0.103213\n",
      "[52]\tvalid_0's binary_logloss: 0.101856\n",
      "[53]\tvalid_0's binary_logloss: 0.100575\n",
      "[54]\tvalid_0's binary_logloss: 0.0993777\n",
      "[55]\tvalid_0's binary_logloss: 0.0982584\n",
      "[56]\tvalid_0's binary_logloss: 0.0972201\n",
      "[57]\tvalid_0's binary_logloss: 0.0962376\n",
      "[58]\tvalid_0's binary_logloss: 0.0953154\n",
      "[59]\tvalid_0's binary_logloss: 0.0944681\n",
      "[60]\tvalid_0's binary_logloss: 0.0936688\n",
      "[61]\tvalid_0's binary_logloss: 0.0929096\n",
      "[62]\tvalid_0's binary_logloss: 0.0922091\n",
      "[63]\tvalid_0's binary_logloss: 0.0915512\n",
      "[64]\tvalid_0's binary_logloss: 0.0909293\n",
      "[65]\tvalid_0's binary_logloss: 0.0903614\n",
      "[66]\tvalid_0's binary_logloss: 0.0898185\n",
      "[67]\tvalid_0's binary_logloss: 0.0893195\n",
      "[68]\tvalid_0's binary_logloss: 0.0888562\n",
      "[69]\tvalid_0's binary_logloss: 0.0884247\n",
      "[70]\tvalid_0's binary_logloss: 0.0880177\n",
      "[71]\tvalid_0's binary_logloss: 0.0876414\n",
      "[72]\tvalid_0's binary_logloss: 0.0872836\n",
      "[73]\tvalid_0's binary_logloss: 0.0869435\n",
      "[74]\tvalid_0's binary_logloss: 0.0866404\n",
      "[75]\tvalid_0's binary_logloss: 0.0863588\n",
      "[76]\tvalid_0's binary_logloss: 0.0860741\n",
      "[77]\tvalid_0's binary_logloss: 0.0858216\n",
      "[78]\tvalid_0's binary_logloss: 0.0855825\n",
      "[79]\tvalid_0's binary_logloss: 0.0853686\n",
      "[80]\tvalid_0's binary_logloss: 0.0851625\n",
      "[81]\tvalid_0's binary_logloss: 0.0849801\n",
      "[82]\tvalid_0's binary_logloss: 0.0848059\n",
      "[83]\tvalid_0's binary_logloss: 0.0846494\n",
      "[84]\tvalid_0's binary_logloss: 0.0845079\n",
      "[85]\tvalid_0's binary_logloss: 0.0843776\n",
      "[86]\tvalid_0's binary_logloss: 0.0842501\n",
      "[87]\tvalid_0's binary_logloss: 0.0841208\n",
      "[88]\tvalid_0's binary_logloss: 0.0840002\n",
      "[89]\tvalid_0's binary_logloss: 0.0838655\n",
      "[90]\tvalid_0's binary_logloss: 0.0837777\n",
      "[91]\tvalid_0's binary_logloss: 0.0836861\n",
      "[92]\tvalid_0's binary_logloss: 0.0836082\n",
      "[93]\tvalid_0's binary_logloss: 0.083526\n",
      "[94]\tvalid_0's binary_logloss: 0.0834472\n",
      "[95]\tvalid_0's binary_logloss: 0.0833809\n",
      "[96]\tvalid_0's binary_logloss: 0.0832945\n",
      "[97]\tvalid_0's binary_logloss: 0.0832341\n",
      "[98]\tvalid_0's binary_logloss: 0.0831584\n",
      "[99]\tvalid_0's binary_logloss: 0.0831021\n",
      "[100]\tvalid_0's binary_logloss: 0.0830457\n",
      "[101]\tvalid_0's binary_logloss: 0.0830046\n",
      "[102]\tvalid_0's binary_logloss: 0.0829706\n",
      "[103]\tvalid_0's binary_logloss: 0.0829327\n",
      "[104]\tvalid_0's binary_logloss: 0.0828964\n",
      "[105]\tvalid_0's binary_logloss: 0.0828719\n",
      "[106]\tvalid_0's binary_logloss: 0.0828363\n",
      "[107]\tvalid_0's binary_logloss: 0.0827956\n",
      "[108]\tvalid_0's binary_logloss: 0.082771\n",
      "[109]\tvalid_0's binary_logloss: 0.0827486\n",
      "[110]\tvalid_0's binary_logloss: 0.0827254\n",
      "[111]\tvalid_0's binary_logloss: 0.0826903\n",
      "[112]\tvalid_0's binary_logloss: 0.0826521\n",
      "[113]\tvalid_0's binary_logloss: 0.0826185\n",
      "[114]\tvalid_0's binary_logloss: 0.0825984\n",
      "[115]\tvalid_0's binary_logloss: 0.0825833\n",
      "[116]\tvalid_0's binary_logloss: 0.0825679\n",
      "[117]\tvalid_0's binary_logloss: 0.082539\n",
      "[118]\tvalid_0's binary_logloss: 0.0825156\n",
      "[119]\tvalid_0's binary_logloss: 0.0825115\n",
      "[120]\tvalid_0's binary_logloss: 0.0824908\n",
      "[121]\tvalid_0's binary_logloss: 0.0824615\n",
      "[122]\tvalid_0's binary_logloss: 0.0824422\n",
      "[123]\tvalid_0's binary_logloss: 0.0824316\n",
      "[124]\tvalid_0's binary_logloss: 0.082416\n",
      "[125]\tvalid_0's binary_logloss: 0.0824061\n",
      "[126]\tvalid_0's binary_logloss: 0.0823861\n",
      "[127]\tvalid_0's binary_logloss: 0.0823767\n",
      "[128]\tvalid_0's binary_logloss: 0.0823721\n",
      "[129]\tvalid_0's binary_logloss: 0.082359\n",
      "[130]\tvalid_0's binary_logloss: 0.082356\n",
      "[131]\tvalid_0's binary_logloss: 0.0823449\n",
      "[132]\tvalid_0's binary_logloss: 0.0823287\n",
      "[133]\tvalid_0's binary_logloss: 0.0823145\n",
      "[134]\tvalid_0's binary_logloss: 0.0822896\n",
      "[135]\tvalid_0's binary_logloss: 0.0822913\n",
      "[136]\tvalid_0's binary_logloss: 0.0822906\n",
      "[137]\tvalid_0's binary_logloss: 0.0822901\n",
      "[138]\tvalid_0's binary_logloss: 0.0822797\n",
      "[139]\tvalid_0's binary_logloss: 0.0822714\n",
      "[140]\tvalid_0's binary_logloss: 0.0822776\n",
      "[141]\tvalid_0's binary_logloss: 0.0822756\n",
      "[142]\tvalid_0's binary_logloss: 0.0822728\n",
      "[143]\tvalid_0's binary_logloss: 0.0822597\n",
      "[144]\tvalid_0's binary_logloss: 0.0822608\n",
      "[145]\tvalid_0's binary_logloss: 0.0822574\n",
      "[146]\tvalid_0's binary_logloss: 0.0822378\n",
      "[147]\tvalid_0's binary_logloss: 0.0822345\n",
      "[148]\tvalid_0's binary_logloss: 0.082231\n",
      "[149]\tvalid_0's binary_logloss: 0.082233\n",
      "[150]\tvalid_0's binary_logloss: 0.0822328\n",
      "[151]\tvalid_0's binary_logloss: 0.0822291\n",
      "[152]\tvalid_0's binary_logloss: 0.0822256\n",
      "[153]\tvalid_0's binary_logloss: 0.0822223\n",
      "[154]\tvalid_0's binary_logloss: 0.082215\n",
      "[155]\tvalid_0's binary_logloss: 0.0822068\n",
      "[156]\tvalid_0's binary_logloss: 0.0822172\n",
      "[157]\tvalid_0's binary_logloss: 0.0822058\n",
      "[158]\tvalid_0's binary_logloss: 0.0821862\n",
      "[159]\tvalid_0's binary_logloss: 0.0821884\n",
      "[160]\tvalid_0's binary_logloss: 0.082171\n",
      "[161]\tvalid_0's binary_logloss: 0.082169\n",
      "[162]\tvalid_0's binary_logloss: 0.0821568\n",
      "[163]\tvalid_0's binary_logloss: 0.0821535\n",
      "[164]\tvalid_0's binary_logloss: 0.0821313\n",
      "[165]\tvalid_0's binary_logloss: 0.082136\n",
      "[166]\tvalid_0's binary_logloss: 0.0821345\n",
      "[167]\tvalid_0's binary_logloss: 0.0821283\n",
      "[168]\tvalid_0's binary_logloss: 0.082127\n",
      "[169]\tvalid_0's binary_logloss: 0.0821271\n",
      "[170]\tvalid_0's binary_logloss: 0.0821137\n",
      "[171]\tvalid_0's binary_logloss: 0.0821194\n",
      "[172]\tvalid_0's binary_logloss: 0.0821239\n",
      "[173]\tvalid_0's binary_logloss: 0.0821263\n",
      "[174]\tvalid_0's binary_logloss: 0.0821226\n",
      "[175]\tvalid_0's binary_logloss: 0.0821273\n",
      "[176]\tvalid_0's binary_logloss: 0.0821139\n",
      "[177]\tvalid_0's binary_logloss: 0.0821116\n",
      "[178]\tvalid_0's binary_logloss: 0.08211\n",
      "[179]\tvalid_0's binary_logloss: 0.0821173\n",
      "[180]\tvalid_0's binary_logloss: 0.082124\n",
      "[181]\tvalid_0's binary_logloss: 0.0821249\n",
      "[182]\tvalid_0's binary_logloss: 0.0821314\n",
      "[183]\tvalid_0's binary_logloss: 0.0821431\n",
      "[184]\tvalid_0's binary_logloss: 0.0821421\n",
      "[185]\tvalid_0's binary_logloss: 0.0821512\n",
      "[186]\tvalid_0's binary_logloss: 0.0821444\n",
      "[187]\tvalid_0's binary_logloss: 0.0821436\n",
      "[188]\tvalid_0's binary_logloss: 0.0821356\n",
      "[189]\tvalid_0's binary_logloss: 0.0821327\n",
      "[190]\tvalid_0's binary_logloss: 0.0821294\n",
      "[191]\tvalid_0's binary_logloss: 0.0821289\n",
      "[192]\tvalid_0's binary_logloss: 0.082111\n",
      "[193]\tvalid_0's binary_logloss: 0.0821158\n",
      "[194]\tvalid_0's binary_logloss: 0.0821078\n",
      "[195]\tvalid_0's binary_logloss: 0.0821117\n",
      "[196]\tvalid_0's binary_logloss: 0.0821117\n",
      "[197]\tvalid_0's binary_logloss: 0.0821165\n",
      "[198]\tvalid_0's binary_logloss: 0.0821127\n",
      "[199]\tvalid_0's binary_logloss: 0.0821097\n",
      "[200]\tvalid_0's binary_logloss: 0.0820879\n",
      "[201]\tvalid_0's binary_logloss: 0.0820986\n",
      "[202]\tvalid_0's binary_logloss: 0.082104\n",
      "[203]\tvalid_0's binary_logloss: 0.0821057\n"
     ]
    },
    {
     "name": "stdout",
     "output_type": "stream",
     "text": [
      "[204]\tvalid_0's binary_logloss: 0.0821324\n",
      "[205]\tvalid_0's binary_logloss: 0.0821407\n",
      "[206]\tvalid_0's binary_logloss: 0.0821508\n",
      "[207]\tvalid_0's binary_logloss: 0.0821511\n",
      "[208]\tvalid_0's binary_logloss: 0.0821538\n",
      "[209]\tvalid_0's binary_logloss: 0.0821528\n",
      "[210]\tvalid_0's binary_logloss: 0.082146\n",
      "[211]\tvalid_0's binary_logloss: 0.0821497\n",
      "[212]\tvalid_0's binary_logloss: 0.0821448\n",
      "[213]\tvalid_0's binary_logloss: 0.0821482\n",
      "[214]\tvalid_0's binary_logloss: 0.0821516\n",
      "[215]\tvalid_0's binary_logloss: 0.0821613\n",
      "[216]\tvalid_0's binary_logloss: 0.0821686\n",
      "[217]\tvalid_0's binary_logloss: 0.0821704\n",
      "[218]\tvalid_0's binary_logloss: 0.0821756\n",
      "[219]\tvalid_0's binary_logloss: 0.0821843\n",
      "[220]\tvalid_0's binary_logloss: 0.0821872\n",
      "[221]\tvalid_0's binary_logloss: 0.0821826\n",
      "[222]\tvalid_0's binary_logloss: 0.0821738\n",
      "[223]\tvalid_0's binary_logloss: 0.0821797\n",
      "[224]\tvalid_0's binary_logloss: 0.0821835\n",
      "[225]\tvalid_0's binary_logloss: 0.0821969\n",
      "[226]\tvalid_0's binary_logloss: 0.0822006\n",
      "[227]\tvalid_0's binary_logloss: 0.0822017\n",
      "[228]\tvalid_0's binary_logloss: 0.0822043\n",
      "[229]\tvalid_0's binary_logloss: 0.0822006\n",
      "[230]\tvalid_0's binary_logloss: 0.082209\n",
      "[231]\tvalid_0's binary_logloss: 0.0822086\n",
      "[232]\tvalid_0's binary_logloss: 0.0822016\n",
      "[233]\tvalid_0's binary_logloss: 0.0822095\n",
      "[234]\tvalid_0's binary_logloss: 0.0822158\n",
      "[235]\tvalid_0's binary_logloss: 0.0821987\n",
      "[236]\tvalid_0's binary_logloss: 0.0822056\n",
      "[237]\tvalid_0's binary_logloss: 0.082201\n",
      "[238]\tvalid_0's binary_logloss: 0.0822073\n",
      "[239]\tvalid_0's binary_logloss: 0.0822105\n",
      "[240]\tvalid_0's binary_logloss: 0.0822121\n",
      "[241]\tvalid_0's binary_logloss: 0.0822134\n",
      "[242]\tvalid_0's binary_logloss: 0.0822093\n",
      "[243]\tvalid_0's binary_logloss: 0.0822144\n",
      "[244]\tvalid_0's binary_logloss: 0.0822164\n",
      "[245]\tvalid_0's binary_logloss: 0.082211\n",
      "[246]\tvalid_0's binary_logloss: 0.0822133\n",
      "[247]\tvalid_0's binary_logloss: 0.0822204\n",
      "[248]\tvalid_0's binary_logloss: 0.0822252\n",
      "[249]\tvalid_0's binary_logloss: 0.0822211\n",
      "[250]\tvalid_0's binary_logloss: 0.0822361\n",
      "[251]\tvalid_0's binary_logloss: 0.0822394\n",
      "[252]\tvalid_0's binary_logloss: 0.0822403\n",
      "[253]\tvalid_0's binary_logloss: 0.0822337\n",
      "[254]\tvalid_0's binary_logloss: 0.0822365\n",
      "[255]\tvalid_0's binary_logloss: 0.0822467\n",
      "[256]\tvalid_0's binary_logloss: 0.0822458\n",
      "[257]\tvalid_0's binary_logloss: 0.0822397\n",
      "[258]\tvalid_0's binary_logloss: 0.0822464\n",
      "[259]\tvalid_0's binary_logloss: 0.0822435\n",
      "[260]\tvalid_0's binary_logloss: 0.0822436\n",
      "[261]\tvalid_0's binary_logloss: 0.0822442\n",
      "[262]\tvalid_0's binary_logloss: 0.0822415\n",
      "[263]\tvalid_0's binary_logloss: 0.0822432\n",
      "[264]\tvalid_0's binary_logloss: 0.0822293\n",
      "[265]\tvalid_0's binary_logloss: 0.0822246\n",
      "[266]\tvalid_0's binary_logloss: 0.0822324\n",
      "[267]\tvalid_0's binary_logloss: 0.0822364\n",
      "[268]\tvalid_0's binary_logloss: 0.0822424\n",
      "[269]\tvalid_0's binary_logloss: 0.0822283\n",
      "[270]\tvalid_0's binary_logloss: 0.0822349\n",
      "[271]\tvalid_0's binary_logloss: 0.0822349\n",
      "[272]\tvalid_0's binary_logloss: 0.0822306\n",
      "[273]\tvalid_0's binary_logloss: 0.0822311\n",
      "[274]\tvalid_0's binary_logloss: 0.0822277\n",
      "[275]\tvalid_0's binary_logloss: 0.082234\n",
      "[276]\tvalid_0's binary_logloss: 0.0822365\n",
      "[277]\tvalid_0's binary_logloss: 0.0822416\n",
      "[278]\tvalid_0's binary_logloss: 0.0822503\n",
      "[279]\tvalid_0's binary_logloss: 0.0822505\n",
      "[280]\tvalid_0's binary_logloss: 0.0822545\n",
      "[281]\tvalid_0's binary_logloss: 0.0822607\n",
      "[282]\tvalid_0's binary_logloss: 0.0822572\n",
      "[283]\tvalid_0's binary_logloss: 0.0822573\n",
      "[284]\tvalid_0's binary_logloss: 0.0822425\n",
      "[285]\tvalid_0's binary_logloss: 0.0822473\n",
      "[286]\tvalid_0's binary_logloss: 0.0822483\n",
      "[287]\tvalid_0's binary_logloss: 0.082253\n",
      "[288]\tvalid_0's binary_logloss: 0.0822529\n",
      "[289]\tvalid_0's binary_logloss: 0.0822558\n",
      "[290]\tvalid_0's binary_logloss: 0.0822582\n",
      "[291]\tvalid_0's binary_logloss: 0.082254\n",
      "[292]\tvalid_0's binary_logloss: 0.0822605\n",
      "[293]\tvalid_0's binary_logloss: 0.0822599\n",
      "[294]\tvalid_0's binary_logloss: 0.0822714\n",
      "[295]\tvalid_0's binary_logloss: 0.0822682\n",
      "[296]\tvalid_0's binary_logloss: 0.0822553\n",
      "[297]\tvalid_0's binary_logloss: 0.0822494\n",
      "[298]\tvalid_0's binary_logloss: 0.0822475\n",
      "[299]\tvalid_0's binary_logloss: 0.0822497\n",
      "[300]\tvalid_0's binary_logloss: 0.0822509\n",
      "Early stopping, best iteration is:\n",
      "[200]\tvalid_0's binary_logloss: 0.0820879\n"
     ]
    },
    {
     "data": {
      "text/plain": [
       "LGBMClassifier(boosting_type='gbdt', class_weight=None, colsample_bytree=0.8,\n",
       "        depth=8, learning_rate=0.05, max_depth=-1, min_child_samples=20,\n",
       "        min_child_weight=0.001, min_split_gain=0.0, n_estimators=20000,\n",
       "        n_jobs=-1, num_leaves=35, objective='binary', random_state=None,\n",
       "        reg_alpha=0.0, reg_lambda=0.0, seed=2018, silent=True,\n",
       "        subsample=0.9, subsample_for_bin=200000, subsample_freq=1)"
      ]
     },
     "execution_count": 20,
     "metadata": {},
     "output_type": "execute_result"
    }
   ],
   "source": [
    "gbm = lgb.LGBMClassifier(\n",
    "        objective='binary',\n",
    "        # metric='binary_error',\n",
    "        num_leaves=35,\n",
    "        depth=8,\n",
    "        learning_rate=0.05,\n",
    "        seed=2018,\n",
    "        colsample_bytree=0.8,\n",
    "        # min_child_samples=8,\n",
    "        subsample=0.9,\n",
    "        n_estimators=20000)\n",
    "gbm.fit(train_X, train_Y,\n",
    "#         feature_name = list(trainX.columns.values),\n",
    "        eval_set=[(valid_X, valid_Y)],\n",
    "        eval_metric='binary_logloss',\n",
    "        early_stopping_rounds=100\n",
    "       )"
   ]
  },
  {
   "cell_type": "markdown",
   "metadata": {},
   "source": [
    "# predict score"
   ]
  },
  {
   "cell_type": "code",
   "execution_count": 21,
   "metadata": {},
   "outputs": [],
   "source": [
    "# result_properties = gbm.predict_proba(test_X)[:, 1]\n",
    "# result_df = pd.concat([test_df['instance_id'], pd.DataFrame(data=result_properties, columns=['predicted_score'])], axis=1)"
   ]
  },
  {
   "cell_type": "code",
   "execution_count": 22,
   "metadata": {},
   "outputs": [],
   "source": [
    "# result_df.to_csv('../total_data/baseline_20180329_0820879.txt', index=False, sep=' ')"
   ]
  }
 ],
 "metadata": {
  "kernelspec": {
   "display_name": "Python 3",
   "language": "python",
   "name": "python3"
  },
  "language_info": {
   "codemirror_mode": {
    "name": "ipython",
    "version": 3
   },
   "file_extension": ".py",
   "mimetype": "text/x-python",
   "name": "python",
   "nbconvert_exporter": "python",
   "pygments_lexer": "ipython3",
   "version": "3.6.4"
  }
 },
 "nbformat": 4,
 "nbformat_minor": 2
}
