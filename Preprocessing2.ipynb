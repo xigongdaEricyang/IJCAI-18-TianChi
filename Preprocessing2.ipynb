{
 "cells": [
  {
   "cell_type": "code",
   "execution_count": 1,
   "metadata": {},
   "outputs": [
    {
     "name": "stdout",
     "output_type": "stream",
     "text": [
      "importing Jupyter notebook from loadData.ipynb\n",
      "importing Jupyter notebook from Util.ipynb\n"
     ]
    }
   ],
   "source": [
    "import import_ipynb\n",
    "from loadData import raw_df, ad_info_columns, user_info_columns, context_info_columns, shop_info_columns, result_columns,ad_info_df, user_info_df, context_info_df, shop_info_df, result_df\n",
    "from Util import getAllTypesofCategory, getAllTypesOfProperty"
   ]
  },
  {
   "cell_type": "code",
   "execution_count": 2,
   "metadata": {},
   "outputs": [],
   "source": [
    "from sklearn.preprocessing import Imputer, MinMaxScaler, OneHotEncoder, LabelEncoder\n",
    "import numpy as np\n",
    "import itertools\n",
    "import pandas as pd\n",
    "import collections\n",
    "from scipy.sparse import csr_matrix, save_npz\n",
    "import time"
   ]
  },
  {
   "cell_type": "markdown",
   "metadata": {},
   "source": [
    "## impute missing value with most_frequent strategy"
   ]
  },
  {
   "cell_type": "code",
   "execution_count": 3,
   "metadata": {},
   "outputs": [],
   "source": [
    "contain_missing_value_columns = [\"item_brand_id\",\"item_city_id\",\"item_sales_level\",\"user_gender_id\",\"user_age_level\",\n",
    "                                \"user_occupation_id\",\"user_star_level\",\"shop_review_positive_rate\",\n",
    "                                \"shop_score_service\",\"shop_score_delivery\",\"shop_score_description\"]\n",
    "other_missing_value_columns = [\"predict_category_property\"]"
   ]
  },
  {
   "cell_type": "code",
   "execution_count": 4,
   "metadata": {},
   "outputs": [],
   "source": [
    "data_imputer = Imputer(missing_values=-1 , strategy='most_frequent', axis=0)\n",
    "raw_df[contain_missing_value_columns] = data_imputer.fit_transform(raw_df[contain_missing_value_columns])"
   ]
  },
  {
   "cell_type": "markdown",
   "metadata": {},
   "source": [
    "## processing the object column"
   ]
  },
  {
   "cell_type": "code",
   "execution_count": null,
   "metadata": {},
   "outputs": [],
   "source": [
    "object_columns = [\"item_category_list\", \"item_property_list\", \"predict_category_property\"]"
   ]
  },
  {
   "cell_type": "code",
   "execution_count": 6,
   "metadata": {},
   "outputs": [],
   "source": [
    "# split category_list to multi features\n",
    "def extract_item_category_list_func(item, num):\n",
    "    items = item.split(';')\n",
    "    if num >=2:\n",
    "        if len(items) > 2:\n",
    "            return items[num]\n",
    "        else:\n",
    "            return str(0)\n",
    "    else:\n",
    "        return items[num]\n",
    "def generate_item_category_features():\n",
    "    raw_df['item_one_level_category'] = raw_df['item_category_list'].apply(lambda item: extract_item_category_list_func(item, 0))\n",
    "    raw_df['item_second_level_category'] = raw_df['item_category_list'].apply(lambda item: extract_item_category_list_func(item, 1))\n",
    "    raw_df['item_third_level_category'] = raw_df['item_category_list'].apply(lambda item: extract_item_category_list_func(item, 2))\n",
    "#     raw_df.drop('item_category_list', axis=1)\n",
    "generate_item_category_features()"
   ]
  },
  {
   "cell_type": "code",
   "execution_count": 7,
   "metadata": {},
   "outputs": [],
   "source": [
    "need_onehot_columns = ['item_brand_id','item_city_id','user_gender_id','item_one_level_category',\n",
    "                       'item_second_level_category']\n",
    "special_onehot_columns = ['item_property_list_array', 'item_third_level_category']\n",
    "other_columns = ['context_timestamp','predict_category_property','is_trade']\n",
    "need_scale_columns = ['item_price_level','item_sales_level','item_collected_level','item_pv_level',\n",
    "                     'user_age_level','user_occupation_id','user_star_level','context_page_id',\n",
    "                     'shop_review_num_level','shop_review_positive_rate','shop_star_level','shop_score_service',\n",
    "                    'shop_score_description']"
   ]
  },
  {
   "cell_type": "markdown",
   "metadata": {},
   "source": [
    "## One hot common column"
   ]
  },
  {
   "cell_type": "code",
   "execution_count": 8,
   "metadata": {},
   "outputs": [],
   "source": [
    "raw_df = raw_df.drop(['item_category_list','item_property_list'], axis=1).reset_index()\n",
    "\n",
    "for i in ['item_brand_id','item_city_id','user_gender_id']:\n",
    "    raw_df[i] = raw_df[i].apply(lambda item : str(item))\n",
    "\n",
    "_result_df = pd.get_dummies(raw_df[need_onehot_columns], prefix=need_onehot_columns)\n",
    "\n",
    "save_npz('../processed_data/need_onehot_columns.npz', csr_matrix(_result_df.values))"
   ]
  },
  {
   "cell_type": "markdown",
   "metadata": {},
   "source": [
    "### third level item process"
   ]
  },
  {
   "cell_type": "code",
   "execution_count": 9,
   "metadata": {},
   "outputs": [],
   "source": [
    "# third_level_items = raw_df['item_third_level_category'].unique()\n",
    "\n",
    "# lb = LabelEncoder()\n",
    "# _tmp = lb.fit_transform(third_level_items)\n",
    "# result = lb.transform(raw_df['item_third_level_category'].values)\n",
    "\n",
    "# ohenc = OneHotEncoder()\n",
    "# ohenc.fit(_tmp.reshape(-1,1))\n",
    "# result = ohenc.transform(result.reshape(-1,1))\n",
    "\n",
    "# tmp_df = pd.DataFrame(data=result.toarray(), columns=['item_third_level_None', 'item_third_level_8868887661186419229', 'item_third_level_6233669177166538628'])\n",
    "\n",
    "# tmp_df.to_csv('../processed_data/item_third_level_one_hot.csv', sep=' ',float_format='%d',index=False)"
   ]
  },
  {
   "cell_type": "markdown",
   "metadata": {},
   "source": [
    "##  scale data in need_scale_column"
   ]
  },
  {
   "cell_type": "code",
   "execution_count": 10,
   "metadata": {},
   "outputs": [],
   "source": [
    "# # min-max normalization\n",
    "# _tmpdf = raw_df[need_scale_columns]\n",
    "# # normalized_df = (_tmpdf - _tmpdf.min())/(_tmpdf.max() - _tmpdf.min())\n",
    "\n",
    "# # mean normalization\n",
    "# normalized_df = (_tmpdf - _tmpdf.mean())/_tmpdf.std()\n",
    "# normalized_df.to_csv('../processed_data/scaled.csv', sep=' ',index=False)"
   ]
  },
  {
   "cell_type": "markdown",
   "metadata": {},
   "source": [
    "##  process date column"
   ]
  }
 ],
 "metadata": {
  "kernelspec": {
   "display_name": "Python 3",
   "language": "python",
   "name": "python3"
  },
  "language_info": {
   "codemirror_mode": {
    "name": "ipython",
    "version": 3
   },
   "file_extension": ".py",
   "mimetype": "text/x-python",
   "name": "python",
   "nbconvert_exporter": "python",
   "pygments_lexer": "ipython3",
   "version": "3.6.4"
  }
 },
 "nbformat": 4,
 "nbformat_minor": 2
}
