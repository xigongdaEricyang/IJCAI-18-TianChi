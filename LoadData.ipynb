{
 "cells": [
  {
   "cell_type": "code",
   "execution_count": 1,
   "metadata": {},
   "outputs": [],
   "source": [
    "import pandas as pd\n",
    "import time"
   ]
  },
  {
   "cell_type": "code",
   "execution_count": 2,
   "metadata": {},
   "outputs": [],
   "source": [
    "path = '../RawData/round1_ijcai_18_train_20180301.txt'\n",
    "raw_df = pd.read_table(path, header=0, sep=' ').drop_duplicates().drop([\n",
    "            'item_id', 'user_id', 'context_id','instance_id', 'shop_id'], axis=1)\n",
    "raw_df['context_time'] = raw_df.apply(lambda item: time.ctime(item.context_timestamp), axis=1)\n",
    "\n",
    "ad_info_columns = ['item_category_list', 'item_property_list', 'item_brand_id', \n",
    "                   'item_city_id','item_price_level','item_sales_level','item_collected_level','item_pv_level']\n",
    "user_info_columns = ['user_gender_id', 'user_age_level', 'user_occupation_id', 'user_star_level']\n",
    "context_info_columns = ['context_timestamp', 'context_page_id', 'predict_category_property']\n",
    "shop_info_columns = ['shop_review_num_level', 'shop_review_positive_rate', 'shop_star_level', \n",
    "                     'shop_score_service', 'shop_score_delivery', 'shop_score_description']\n",
    "result_columns = ['is_trade']\n",
    "ad_info_df = raw_df[ad_info_columns]\n",
    "user_info_df = raw_df[user_info_columns]\n",
    "context_info_df = raw_df[context_info_columns]\n",
    "shop_info_df = raw_df[shop_info_columns]\n",
    "result_df = raw_df[result_columns]"
   ]
  }
 ],
 "metadata": {
  "kernelspec": {
   "display_name": "Python 3",
   "language": "python",
   "name": "python3"
  },
  "language_info": {
   "codemirror_mode": {
    "name": "ipython",
    "version": 3
   },
   "file_extension": ".py",
   "mimetype": "text/x-python",
   "name": "python",
   "nbconvert_exporter": "python",
   "pygments_lexer": "ipython3",
   "version": "3.6.4"
  }
 },
 "nbformat": 4,
 "nbformat_minor": 2
}
