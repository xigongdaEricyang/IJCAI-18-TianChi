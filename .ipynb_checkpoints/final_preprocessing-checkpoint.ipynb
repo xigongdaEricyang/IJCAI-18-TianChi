{
 "cells": [
  {
   "cell_type": "code",
   "execution_count": 1,
   "metadata": {},
   "outputs": [
    {
     "name": "stdout",
     "output_type": "stream",
     "text": [
      "importing Jupyter notebook from loadData.ipynb\n",
      "importing Jupyter notebook from Util.ipynb\n"
     ]
    }
   ],
   "source": [
    "import import_ipynb\n",
    "from sklearn.preprocessing import Imputer, MinMaxScaler, OneHotEncoder, LabelEncoder\n",
    "from sklearn.utils import shuffle\n",
    "from sklearn.metrics import log_loss\n",
    "import numpy as np\n",
    "import itertools\n",
    "import pandas as pd\n",
    "import collections\n",
    "from scipy import sparse\n",
    "import time\n",
    "from scipy.sparse import csr_matrix, save_npz, load_npz, hstack\n",
    "import warnings\n",
    "import lightgbm as lgb\n",
    "\n",
    "from loadData import raw_df, test_df\n",
    "from Util import getAllTypesofCategory, getAllTypesOfProperty\n",
    "\n",
    "warnings.filterwarnings('ignore')"
   ]
  },
  {
   "cell_type": "code",
   "execution_count": 81,
   "metadata": {},
   "outputs": [],
   "source": [
    "import matplotlib.pyplot as plt\n",
    "%matplotlib inline"
   ]
  },
  {
   "cell_type": "code",
   "execution_count": 2,
   "metadata": {},
   "outputs": [],
   "source": [
    "final_df = pd.concat([raw_df.drop(['is_trade'], axis = 1), test_df], axis = 0).reset_index(drop=True)"
   ]
  },
  {
   "cell_type": "markdown",
   "metadata": {},
   "source": [
    "## impute missing value with most_frequent strategy"
   ]
  },
  {
   "cell_type": "code",
   "execution_count": 3,
   "metadata": {},
   "outputs": [],
   "source": [
    "contain_missing_value_columns = [\"item_brand_id\",\"item_city_id\",\"item_sales_level\",\"user_gender_id\",\"user_age_level\",\n",
    "                                \"user_occupation_id\",\"user_star_level\",\"shop_review_positive_rate\",\n",
    "                                \"shop_score_service\",\"shop_score_delivery\",\"shop_score_description\"]\n",
    "data_imputer = Imputer(missing_values=-1 , strategy='most_frequent', axis=0)\n",
    "final_df[contain_missing_value_columns] = data_imputer.fit_transform(final_df[contain_missing_value_columns])"
   ]
  },
  {
   "cell_type": "markdown",
   "metadata": {},
   "source": [
    "# item"
   ]
  },
  {
   "cell_type": "code",
   "execution_count": 4,
   "metadata": {},
   "outputs": [],
   "source": [
    "final_df['len_item_category'] = final_df['item_category_list'].map(lambda x: len(str(x).split(';')))\n",
    "final_df['len_item_property'] = final_df['item_property_list'].map(lambda x: len(str(x).split(';')))"
   ]
  },
  {
   "cell_type": "markdown",
   "metadata": {},
   "source": [
    "## processing  predict_category_property"
   ]
  },
  {
   "cell_type": "code",
   "execution_count": 5,
   "metadata": {},
   "outputs": [],
   "source": [
    "def generate_predict_category_property_feature(df):\n",
    "    def process_func(item):\n",
    "        result = {}\n",
    "        for i in item.split(';'):\n",
    "            if ':' in i:\n",
    "                items = i.split(':')\n",
    "                category = int(items[0])\n",
    "                properties = items[1]\n",
    "                if ',' in properties:\n",
    "                    result[category] = map(int,items[1].split(','))\n",
    "                else:\n",
    "                    result[category] = [int(items[1])]\n",
    "        return result\n",
    "    def process_category(item):\n",
    "        return list(process_func(item).keys())\n",
    "    def process_property(item):\n",
    "        _ = process_func(item).values()\n",
    "        return list(set(itertools.chain(*_)))\n",
    "    df['predict_categories'] = df['predict_category_property'].apply(lambda item: process_category(item))\n",
    "    df['predict_properties'] = df['predict_category_property'].apply(lambda item: process_property(item))\n",
    "generate_predict_category_property_feature(final_df)"
   ]
  },
  {
   "cell_type": "code",
   "execution_count": 6,
   "metadata": {},
   "outputs": [],
   "source": [
    "tmp = final_df['predict_categories'].values\n",
    "all_categories = list(set(itertools.chain(*tmp)))\n",
    "category_label_encode = LabelEncoder()\n",
    "all_categories_labels = category_label_encode.fit_transform(all_categories)"
   ]
  },
  {
   "cell_type": "code",
   "execution_count": 7,
   "metadata": {},
   "outputs": [],
   "source": [
    "final_df['predict_categories'][160943] = ['7908382889764677758']\n",
    "final_df['predict_categories'][205272] = ['7908382889764677758']\n",
    "final_df['predict_categories'][214168] = ['7908382889764677758']\n",
    "final_df['predict_categories'][314685] = ['7908382889764677758']"
   ]
  },
  {
   "cell_type": "code",
   "execution_count": 8,
   "metadata": {},
   "outputs": [],
   "source": [
    "final_df['predict_categories'] = final_df['predict_categories'].apply(lambda item: category_label_encode.transform(item))"
   ]
  },
  {
   "cell_type": "code",
   "execution_count": 9,
   "metadata": {},
   "outputs": [],
   "source": [
    "final_df['item_category_list'] = final_df['item_category_list'].apply(lambda item: item.split(';'))"
   ]
  },
  {
   "cell_type": "code",
   "execution_count": 10,
   "metadata": {},
   "outputs": [],
   "source": [
    "final_df['item_category_list'] = final_df['item_category_list'].apply(lambda item: category_label_encode.transform(item))"
   ]
  },
  {
   "cell_type": "code",
   "execution_count": 11,
   "metadata": {},
   "outputs": [],
   "source": [
    "for i in range(3):\n",
    "    final_df['predict_categories_%d'%(i)] = final_df['predict_categories'].apply(lambda item:  item[i] if len(item) > i else 0)\n",
    "#     final_df['predict_properties_%d'%(i)] = final_df['predict_properties'].apply(lambda item:  item[i] if len(item) > i else -1)\n",
    "    final_df['item_category_%d'%(i)] = final_df['item_category_list'].apply(lambda x:x[i] if len(x) > i else 0)"
   ]
  },
  {
   "cell_type": "code",
   "execution_count": 12,
   "metadata": {},
   "outputs": [],
   "source": [
    "extract_item_property_list_func = lambda item: list(item.split(';'))\n",
    "final_df['item_property_list_array'] = final_df['item_property_list'].apply(lambda item: extract_item_property_list_func(item))"
   ]
  },
  {
   "cell_type": "code",
   "execution_count": 13,
   "metadata": {},
   "outputs": [
    {
     "data": {
      "text/plain": [
       "LabelEncoder()"
      ]
     },
     "execution_count": 13,
     "metadata": {},
     "output_type": "execute_result"
    }
   ],
   "source": [
    "arrays = list(final_df['item_property_list_array']) + list(final_df['predict_properties']) + ['-1']\n",
    "le = LabelEncoder()\n",
    "le.fit(list(set(itertools.chain(*arrays))))"
   ]
  },
  {
   "cell_type": "code",
   "execution_count": 14,
   "metadata": {},
   "outputs": [],
   "source": [
    "# final_df['item_property_list_array'] = final_df['item_property_list_array'].apply(lambda item: le.transform(item[:10]))"
   ]
  },
  {
   "cell_type": "code",
   "execution_count": 15,
   "metadata": {},
   "outputs": [],
   "source": [
    "# item_properties_0 - 9\n",
    "for i in range(5):\n",
    "    final_df['item_properties_%d'%(i)] = le.transform(final_df['item_property_list_array'].map(lambda x: x[i] if len(x) > i else ''))"
   ]
  },
  {
   "cell_type": "code",
   "execution_count": 17,
   "metadata": {},
   "outputs": [],
   "source": [
    "for i in range(3):\n",
    "    final_df['predict_properties_%d'%(i)] = le.transform(final_df['predict_properties'].map(lambda x: x[i] if len(x) > i else -1))"
   ]
  },
  {
   "cell_type": "code",
   "execution_count": 18,
   "metadata": {},
   "outputs": [],
   "source": [
    "# 'item_category_list', predict_categories\n",
    "def calc_predict_category_accuracy(row_item):\n",
    "    num = 0\n",
    "    predict_categories_list = row_item.predict_categories\n",
    "    for i in row_item.item_category_list:\n",
    "        if i in predict_categories_list:\n",
    "            num += 1\n",
    "    return round(num/len(predict_categories_list), 2)\n",
    "final_df['predict_category_accuracy'] = final_df[['item_category_list', 'predict_categories']].apply((lambda item: calc_predict_category_accuracy(item)), axis = 1)"
   ]
  },
  {
   "cell_type": "markdown",
   "metadata": {},
   "source": [
    "# id label"
   ]
  },
  {
   "cell_type": "code",
   "execution_count": 19,
   "metadata": {},
   "outputs": [],
   "source": [
    "lbl = LabelEncoder()"
   ]
  },
  {
   "cell_type": "code",
   "execution_count": 20,
   "metadata": {},
   "outputs": [],
   "source": [
    "for col in ['user_id']:\n",
    "    final_df[col] = lbl.fit_transform(final_df[col])"
   ]
  },
  {
   "cell_type": "code",
   "execution_count": 21,
   "metadata": {},
   "outputs": [],
   "source": [
    "for col in ['shop_id']:\n",
    "    final_df[col] = lbl.fit_transform(final_df[col])"
   ]
  },
  {
   "cell_type": "code",
   "execution_count": 22,
   "metadata": {},
   "outputs": [],
   "source": [
    "for col in ['item_id', 'item_brand_id', 'item_city_id']:\n",
    "    final_df[col] = lbl.fit_transform(final_df[col])"
   ]
  },
  {
   "cell_type": "code",
   "execution_count": 23,
   "metadata": {},
   "outputs": [],
   "source": [
    "# standard level data\n",
    "for i, column in zip(range(1, 6), ['user_age_level', 'user_occupation_id', 'user_star_level', 'context_page_id', 'shop_star_level']):\n",
    "    final_df[column] = final_df[column].apply(lambda item: item%(i*1000))"
   ]
  },
  {
   "cell_type": "markdown",
   "metadata": {},
   "source": [
    "# 分段"
   ]
  },
  {
   "cell_type": "code",
   "execution_count": 24,
   "metadata": {},
   "outputs": [],
   "source": [
    "# start level 用户的星级编号, 分为 高、中、 低 三等\n",
    "def user_star_level_fenduan(item):\n",
    "    if item < 4:\n",
    "        return 0\n",
    "    elif item < 8:\n",
    "        return 1\n",
    "    else:\n",
    "        return 2\n",
    "final_df['user_star_level'] = final_df['user_star_level'].apply(user_star_level_fenduan)"
   ]
  },
  {
   "cell_type": "code",
   "execution_count": 25,
   "metadata": {},
   "outputs": [],
   "source": [
    "# 'shop_review_num_level' 店铺的评价数量等级 少、 较少、 一般 、 多、 很多\n",
    "def shop_review_num_level_fenduan(item):\n",
    "    if item < 5:\n",
    "        return 0\n",
    "    elif item < 10:\n",
    "        return 1\n",
    "    elif item < 15:\n",
    "        return 2\n",
    "    elif item < 20:\n",
    "        return 3\n",
    "    else:\n",
    "        return 4\n",
    "final_df['shop_review_num_level'] = final_df['shop_review_num_level'].apply(shop_review_num_level_fenduan)"
   ]
  },
  {
   "cell_type": "code",
   "execution_count": 26,
   "metadata": {},
   "outputs": [],
   "source": [
    "# a = list(final_df['shop_review_positive_rate'].values)\n",
    "# result = {'1': 0, '0.95-1': 0, '0.9-0.95': 0, '0.8-0.9': 0, '0.7-0.8': 0}\n",
    "# for i in a:\n",
    "#     if i == 1:\n",
    "#         result['1'] = result['1'] + 1\n",
    "#     elif (i<1.0) & (i > 0.95):\n",
    "#         result['0.95-1'] = result['0.95-1'] + 1\n",
    "#     elif (i< 0.95)& (i > 0.9):\n",
    "#         result['0.9-0.95'] = result['0.9-0.95'] + 1\n",
    "#     elif (i< 0.9) & (i > 0.8):\n",
    "#         result['0.8-0.9'] = result['0.8-0.9'] + 1\n",
    "#     elif (i< 0.8) & (i>0.7):\n",
    "#         result['0.7-0.8'] = result['0.7-0.8'] + 1\n",
    "# result\n",
    "\n",
    "# shop_review_positive_rate 店铺的好评率  好， 中, 一般，  差\n",
    "def shop_review_positive_rate_fenduan(x):\n",
    "    if x == 1.0:\n",
    "        return 3\n",
    "    elif x > 0.95:\n",
    "        return 2\n",
    "    elif x > 0.9:\n",
    "        return 1\n",
    "    else:\n",
    "        return 0\n",
    "final_df['shop_review_positive_rate'] = final_df['shop_review_positive_rate'].apply(shop_review_positive_rate_fenduan)"
   ]
  },
  {
   "cell_type": "code",
   "execution_count": 27,
   "metadata": {},
   "outputs": [],
   "source": [
    "# shop_star_level  店铺的星级编号 少、 较少、 一般 、 多、 很多\n",
    "def shop_star_level_fenduan(item):\n",
    "    if item > 16:\n",
    "        return 4\n",
    "    elif item > 12:\n",
    "        return 3\n",
    "    elif item > 8:\n",
    "        return 2\n",
    "    elif item > 4:\n",
    "        return 1\n",
    "    else:\n",
    "        return 0\n",
    "final_df['shop_star_level'] = final_df['shop_review_positive_rate'].apply(shop_star_level_fenduan)"
   ]
  },
  {
   "cell_type": "code",
   "execution_count": 28,
   "metadata": {},
   "outputs": [],
   "source": [
    "# a = list(final_df['shop_score_service'].values)\n",
    "# result = {'0.99-1': 0, '0.98-0.99': 0, '0.97-0.98': 0, '0.96-0.0.97': 0,  '0.9-0.95': 0,  '0.8-0.9': 0, '0.7-0.8': 0 }\n",
    "# for i in a:\n",
    "#     if i >=0.99:\n",
    "#         result['0.99-1'] = result['0.99-1'] + 1\n",
    "#     elif (i<0.99) & (i >= 0.98):\n",
    "#         result['0.98-0.99'] = result['0.98-0.99'] + 1\n",
    "#     elif (i< 0.98)& (i >= 0.97):\n",
    "#         result['0.97-0.98'] = result['0.97-0.98'] + 1\n",
    "#     elif (i< 0.97) & (i >= 0.96):\n",
    "#         result['0.96-0.0.97'] = result['0.96-0.0.97'] + 1\n",
    "#     elif (i< 0.96) & (i>=0.9):\n",
    "#         result['0.9-0.95'] = result['0.9-0.95'] + 1\n",
    "#     elif (i< 0.9) & (i>= 0.8):\n",
    "#         result['0.8-0.9'] = result['0.8-0.9'] + 1\n",
    "#     elif (i < 0.8) & (i > 0.7):\n",
    "#         result['0.7-0.8'] = result['0.7-0.8'] + 1\n",
    "# result\n",
    "# shop_score_service  店铺的服务态度评分  好， 中 差\n",
    "def shop_score_service_fenduan(x):\n",
    "    if x >= 0.97:\n",
    "        return 2\n",
    "    elif x >= 0.95:\n",
    "        return 1\n",
    "    else:\n",
    "        return 0\n",
    "final_df['shop_score_service'] = final_df['shop_score_service'].apply(shop_score_service_fenduan)"
   ]
  },
  {
   "cell_type": "code",
   "execution_count": 29,
   "metadata": {},
   "outputs": [],
   "source": [
    "# shop_score_delivery 店铺的物流服务评分 好， 中 差 很差\n",
    "def shop_score_delivery_fenduan(x):\n",
    "    if x >= 0.98:\n",
    "        return 3\n",
    "    elif x >= 0.97:\n",
    "        return 2\n",
    "    elif x>= 0.95:\n",
    "        return 1\n",
    "    else:\n",
    "        return 0\n",
    "final_df['shop_score_delivery'] = final_df['shop_score_delivery'].apply(shop_score_delivery_fenduan)"
   ]
  },
  {
   "cell_type": "code",
   "execution_count": 30,
   "metadata": {},
   "outputs": [],
   "source": [
    "#shop_score_description 店铺的描述相符评分 好， 中 差 很差\n",
    "def shop_score_description_fenduan(x):\n",
    "    if x >= 0.98:\n",
    "        return 3\n",
    "    elif x >= 0.97:\n",
    "        return 2\n",
    "    elif x>= 0.95:\n",
    "        return 1\n",
    "    else:\n",
    "        return 0\n",
    "final_df['shop_score_description'] = final_df['shop_score_description'].apply(shop_score_description_fenduan)"
   ]
  },
  {
   "cell_type": "code",
   "execution_count": 31,
   "metadata": {},
   "outputs": [
    {
     "data": {
      "text/plain": [
       "Index(['instance_id', 'item_id', 'item_category_list', 'item_property_list',\n",
       "       'item_brand_id', 'item_city_id', 'item_price_level', 'item_sales_level',\n",
       "       'item_collected_level', 'item_pv_level', 'user_id', 'user_gender_id',\n",
       "       'user_age_level', 'user_occupation_id', 'user_star_level', 'context_id',\n",
       "       'context_timestamp', 'context_page_id', 'predict_category_property',\n",
       "       'shop_id', 'shop_review_num_level', 'shop_review_positive_rate',\n",
       "       'shop_star_level', 'shop_score_service', 'shop_score_delivery',\n",
       "       'shop_score_description', 'time', 'day', 'hour', 'len_item_category',\n",
       "       'len_item_property', 'predict_categories', 'predict_properties',\n",
       "       'predict_categories_0', 'item_category_0', 'predict_categories_1',\n",
       "       'item_category_1', 'predict_categories_2', 'item_category_2',\n",
       "       'item_property_list_array', 'item_properties_0', 'item_properties_1',\n",
       "       'item_properties_2', 'item_properties_3', 'item_properties_4',\n",
       "       'predict_properties_0', 'predict_properties_1', 'predict_properties_2',\n",
       "       'predict_category_accuracy'],\n",
       "      dtype='object')"
      ]
     },
     "execution_count": 31,
     "metadata": {},
     "output_type": "execute_result"
    }
   ],
   "source": [
    "final_df.columns"
   ]
  },
  {
   "cell_type": "markdown",
   "metadata": {},
   "source": [
    "# 组合"
   ]
  },
  {
   "cell_type": "code",
   "execution_count": 47,
   "metadata": {},
   "outputs": [],
   "source": [
    "# item 两两组合\n",
    "final_df['sale_price'] = final_df['item_sales_level'] + final_df['item_price_level']\n",
    "final_df['sale_collect'] = final_df['item_sales_level'] + final_df['item_collected_level']\n",
    "final_df['price_collect'] = final_df['item_price_level'] + final_df['item_collected_level']"
   ]
  },
  {
   "cell_type": "code",
   "execution_count": 48,
   "metadata": {},
   "outputs": [],
   "source": [
    "# user两两组合\n",
    "final_df['gender_age'] = final_df['user_gender_id'] + final_df['user_age_level']\n",
    "final_df['gender_occ'] = final_df['user_gender_id'] + final_df['user_occupation_id']\n",
    "final_df['gender_star'] = final_df['user_gender_id'] + final_df['user_star_level']"
   ]
  },
  {
   "cell_type": "code",
   "execution_count": 49,
   "metadata": {},
   "outputs": [],
   "source": [
    "# shop两两组合\n",
    "final_df['review_star'] = final_df['shop_review_num_level'] + final_df['shop_star_level']"
   ]
  },
  {
   "cell_type": "code",
   "execution_count": 51,
   "metadata": {},
   "outputs": [],
   "source": [
    "itemcnt = final_df.groupby(['item_id'], as_index=False)['instance_id'].agg({'item_cnt': 'count'})\n",
    "final_df = pd.merge(final_df, itemcnt, on=['item_id'], how='left')"
   ]
  },
  {
   "cell_type": "code",
   "execution_count": 62,
   "metadata": {},
   "outputs": [
    {
     "name": "stdout",
     "output_type": "stream",
     "text": [
      "一个brand有多少price salse collected level……\n",
      "一个city有多少item_price_level，item_sales_level，item_collected_level，item_pv_level\n",
      "一个price有多少item_sales_level，item_collected_level，item_pv_level\n",
      "一个item_sales_level有多少item_collected_level，item_pv_level\n",
      "一个item_collected_level有多少item_pv_level\n"
     ]
    }
   ],
   "source": [
    "def item(data):\n",
    "    print('一个item有多少brand,price salse collected level……')\n",
    "\n",
    "    itemcnt = data.groupby(['item_id'], as_index=False)['instance_id'].agg({'item_cnt': 'count'})\n",
    "    data = pd.merge(data, itemcnt, on=['item_id'], how='left')\n",
    "\n",
    "    for col in ['item_brand_id','item_city_id', 'item_price_level', 'item_sales_level', 'item_collected_level', 'item_pv_level']:\n",
    "        itemcnt = data.groupby([col, 'item_id'], as_index=False)['instance_id'].agg({str(col) + '_item_cnt': 'count'})\n",
    "        data = pd.merge(data, itemcnt, on=[col, 'item_id'], how='left')\n",
    "        data[str(col) + '_item_prob']=data[str(col) + '_item_cnt']/data['item_cnt']\n",
    "    del data['item_cnt']\n",
    "\n",
    "    print('一个brand有多少price salse collected level……')\n",
    "\n",
    "    itemcnt = data.groupby(['item_brand_id'], as_index=False)['instance_id'].agg({'item_brand_cnt': 'count'})\n",
    "    data = pd.merge(data, itemcnt, on=['item_brand_id'], how='left')\n",
    "\n",
    "    for col in ['item_city_id', 'item_price_level', 'item_sales_level', 'item_collected_level', 'item_pv_level']:\n",
    "        itemcnt = data.groupby([col, 'item_brand_id'], as_index=False)['instance_id'].agg({str(col) + '_brand_cnt': 'count'})\n",
    "        data = pd.merge(data, itemcnt, on=[col, 'item_brand_id'], how='left')\n",
    "        data[str(col) + '_brand_prob'] = data[str(col) + '_brand_cnt'] / data['item_brand_cnt']\n",
    "    del data['item_brand_cnt']\n",
    "\n",
    "    print('一个city有多少item_price_level，item_sales_level，item_collected_level，item_pv_level')\n",
    "\n",
    "    itemcnt = data.groupby(['item_city_id'], as_index=False)['instance_id'].agg({'item_city_cnt': 'count'})\n",
    "    data = pd.merge(data, itemcnt, on=['item_city_id'], how='left')\n",
    "    for col in ['item_price_level', 'item_sales_level', 'item_collected_level', 'item_pv_level']:\n",
    "        itemcnt = data.groupby([col, 'item_city_id'], as_index=False)['instance_id'].agg({str(col) + '_city_cnt': 'count'})\n",
    "        data = pd.merge(data, itemcnt, on=[col, 'item_city_id'], how='left')\n",
    "        data[str(col) + '_city_prob'] = data[str(col) + '_city_cnt'] / data['item_city_cnt']\n",
    "    del data['item_city_cnt']\n",
    "\n",
    "    print('一个price有多少item_sales_level，item_collected_level，item_pv_level')\n",
    "\n",
    "    itemcnt = data.groupby(['item_price_level'], as_index=False)['instance_id'].agg({'item_price_cnt': 'count'})\n",
    "    data = pd.merge(data, itemcnt, on=['item_price_level'], how='left')\n",
    "    for col in ['item_sales_level', 'item_collected_level', 'item_pv_level']:\n",
    "        itemcnt = data.groupby([col, 'item_city_id'], as_index=False)['instance_id'].agg({str(col) + '_price_cnt': 'count'})\n",
    "        data = pd.merge(data, itemcnt, on=[col, 'item_city_id'], how='left')\n",
    "        data[str(col) + '_price_prob'] = data[str(col) + '_price_cnt'] / data['item_price_cnt']\n",
    "    del data['item_price_cnt']\n",
    "\n",
    "    print('一个item_sales_level有多少item_collected_level，item_pv_level')\n",
    "\n",
    "    itemcnt = data.groupby(['item_sales_level'], as_index=False)['instance_id'].agg({'item_salse_cnt': 'count'})\n",
    "    data = pd.merge(data, itemcnt, on=['item_sales_level'], how='left')\n",
    "    for col in ['item_collected_level', 'item_pv_level']:\n",
    "        itemcnt = data.groupby([col, 'item_sales_level'], as_index=False)['instance_id'].agg({str(col) + '_salse_cnt': 'count'})\n",
    "        data = pd.merge(data, itemcnt, on=[col, 'item_sales_level'], how='left')\n",
    "        data[str(col) + '_salse_prob'] = data[str(col) + '_salse_cnt'] / data['item_salse_cnt']\n",
    "    del data['item_salse_cnt']\n",
    "\n",
    "    print('一个item_collected_level有多少item_pv_level')\n",
    "\n",
    "    itemcnt = data.groupby(['item_collected_level'], as_index=False)['instance_id'].agg({'item_coll_cnt': 'count'})\n",
    "    data = pd.merge(data, itemcnt, on=['item_collected_level'], how='left')\n",
    "    for col in ['item_pv_level']:\n",
    "        itemcnt = data.groupby([col, 'item_collected_level'], as_index=False)['instance_id'].agg({str(col) + '_coll_cnt': 'count'})\n",
    "        data = pd.merge(data, itemcnt, on=[col, 'item_collected_level'], how='left')\n",
    "        data[str(col) + '_coll_prob'] = data[str(col) + '_coll_cnt'] / data['item_coll_cnt']\n",
    "    del data['item_coll_cnt']\n",
    "\n",
    "    return data\n",
    "final_df = item(final_df)"
   ]
  },
  {
   "cell_type": "code",
   "execution_count": 63,
   "metadata": {},
   "outputs": [
    {
     "name": "stdout",
     "output_type": "stream",
     "text": [
      "用户有多少性别\n",
      "性别的年龄段，职业有多少\n",
      "user_age_level对应的user_occupation_id，user_star_level\n",
      "user_occupation_id对应的user_star_level\n"
     ]
    }
   ],
   "source": [
    "def user(data):\n",
    "    print('用户有多少性别')\n",
    "    itemcnt = data.groupby(['user_id'], as_index=False)['instance_id'].agg({'user_cnt': 'count'})\n",
    "    data = pd.merge(data, itemcnt, on=['user_id'], how='left')\n",
    "\n",
    "    for col in ['user_gender_id','user_age_level', 'user_occupation_id', 'user_star_level']:\n",
    "        itemcnt = data.groupby([col, 'user_id'], as_index=False)['instance_id'].agg({str(col) + '_user_cnt': 'count'})\n",
    "        data = pd.merge(data, itemcnt, on=[col, 'user_id'], how='left')\n",
    "        data[str(col) + '_user_prob']=data[str(col) + '_user_cnt']/data['user_cnt']\n",
    "    del data['user_cnt']\n",
    "\n",
    "    print('性别的年龄段，职业有多少')\n",
    "    itemcnt = data.groupby(['user_gender_id'], as_index=False)['instance_id'].agg({'user_gender_cnt': 'count'})\n",
    "    data = pd.merge(data, itemcnt, on=['user_gender_id'], how='left')\n",
    "\n",
    "    for col in ['user_age_level', 'user_occupation_id', 'user_star_level']:\n",
    "        itemcnt = data.groupby([col, 'user_gender_id'], as_index=False)['instance_id'].agg({str(col) + '_user_gender_cnt': 'count'})\n",
    "        data = pd.merge(data, itemcnt, on=[col, 'user_gender_id'], how='left')\n",
    "        data[str(col) + '_user_gender_prob']=data[str(col) + '_user_gender_cnt']/data['user_gender_cnt']\n",
    "    del data['user_gender_cnt']\n",
    "\n",
    "    print('user_age_level对应的user_occupation_id，user_star_level')\n",
    "    itemcnt = data.groupby(['user_age_level'], as_index=False)['instance_id'].agg({'user_age_cnt': 'count'})\n",
    "    data = pd.merge(data, itemcnt, on=['user_age_level'], how='left')\n",
    "\n",
    "    for col in ['user_occupation_id', 'user_star_level']:\n",
    "        itemcnt = data.groupby([col, 'user_age_level'], as_index=False)['instance_id'].agg({str(col) + '_user_age_cnt': 'count'})\n",
    "        data = pd.merge(data, itemcnt, on=[col, 'user_age_level'], how='left')\n",
    "        data[str(col) + '_user_age_prob']=data[str(col) + '_user_age_cnt']/data['user_age_cnt']\n",
    "    del data['user_age_cnt']\n",
    "\n",
    "    print('user_occupation_id对应的user_star_level')\n",
    "    itemcnt = data.groupby(['user_occupation_id'], as_index=False)['instance_id'].agg({'user_occ_cnt': 'count'})\n",
    "    data = pd.merge(data, itemcnt, on=['user_occupation_id'], how='left')\n",
    "    for col in ['user_star_level']:\n",
    "        itemcnt = data.groupby([col, 'user_occupation_id'], as_index=False)['instance_id'].agg({str(col) + '_user_occ_cnt': 'count'})\n",
    "        data = pd.merge(data, itemcnt, on=[col, 'user_occupation_id'], how='left')\n",
    "        data[str(col) + '_user_occ_prob']=data[str(col) + '_user_occ_cnt']/data['user_occ_cnt']\n",
    "    del data['user_occ_cnt']\n",
    "\n",
    "    return data\n",
    "final_df = user(final_df)"
   ]
  },
  {
   "cell_type": "code",
   "execution_count": 64,
   "metadata": {},
   "outputs": [
    {
     "name": "stdout",
     "output_type": "stream",
     "text": [
      "一个user有多少item_id,item_brand_id……\n",
      "一个user_gender有多少item_id,item_brand_id……\n",
      "一个user_age_level有多少item_id,item_brand_id……\n",
      "一个user_occupation_id有多少item_id,item_brand_id…\n"
     ]
    }
   ],
   "source": [
    "def user_item(data):\n",
    "    itemcnt = data.groupby(['user_id'], as_index=False)['instance_id'].agg({'user_cnt': 'count'})\n",
    "    data = pd.merge(data, itemcnt, on=['user_id'], how='left')\n",
    "    print('一个user有多少item_id,item_brand_id……')\n",
    "    for col in ['item_id',\n",
    "                'item_brand_id','item_city_id','item_price_level',\n",
    "                'item_sales_level','item_collected_level','item_pv_level']:\n",
    "        item_shop_cnt = data.groupby([col, 'user_id'], as_index=False)['instance_id'].agg({str(col)+'_user_cnt': 'count'})\n",
    "        data = pd.merge(data, item_shop_cnt, on=[col, 'user_id'], how='left')\n",
    "        data[str(col) + '_user_prob'] = data[str(col) + '_user_cnt'] / data['user_cnt']\n",
    "\n",
    "    print('一个user_gender有多少item_id,item_brand_id……')\n",
    "    itemcnt = data.groupby(['user_gender_id'], as_index=False)['instance_id'].agg({'user_gender_cnt': 'count'})\n",
    "    data = pd.merge(data, itemcnt, on=['user_gender_id'], how='left')\n",
    "    for col in ['item_id',\n",
    "                'item_brand_id','item_city_id','item_price_level',\n",
    "                'item_sales_level','item_collected_level','item_pv_level']:\n",
    "        item_shop_cnt = data.groupby([col, 'user_gender_id'], as_index=False)['instance_id'].agg({str(col)+'_user_gender_cnt': 'count'})\n",
    "        data = pd.merge(data, item_shop_cnt, on=[col, 'user_gender_id'], how='left')\n",
    "        data[str(col) + '_user_gender_prob'] = data[str(col) + '_user_gender_cnt'] / data['user_gender_cnt']\n",
    "\n",
    "    print('一个user_age_level有多少item_id,item_brand_id……')\n",
    "    itemcnt = data.groupby(['user_age_level'], as_index=False)['instance_id'].agg({'user_age_cnt': 'count'})\n",
    "    data = pd.merge(data, itemcnt, on=['user_age_level'], how='left')\n",
    "    for col in ['item_id',\n",
    "                'item_brand_id','item_city_id','item_price_level',\n",
    "                'item_sales_level','item_collected_level','item_pv_level']:\n",
    "        item_shop_cnt = data.groupby([col, 'user_age_level'], as_index=False)['instance_id'].agg({str(col)+'_user_age_cnt': 'count'})\n",
    "        data = pd.merge(data, item_shop_cnt, on=[col, 'user_age_level'], how='left')\n",
    "        data[str(col) + '_user_age_prob'] = data[str(col) + '_user_age_cnt'] / data['user_age_cnt']\n",
    "\n",
    "    print('一个user_occupation_id有多少item_id,item_brand_id…')\n",
    "    itemcnt = data.groupby(['user_occupation_id'], as_index=False)['instance_id'].agg({'user_occ_cnt': 'count'})\n",
    "    data = pd.merge(data, itemcnt, on=['user_occupation_id'], how='left')\n",
    "    for col in ['item_id',\n",
    "                'item_brand_id','item_city_id','item_price_level',\n",
    "                'item_sales_level','item_collected_level','item_pv_level']:\n",
    "        item_shop_cnt = data.groupby([col, 'user_occupation_id'], as_index=False)['instance_id'].agg({str(col)+'_user_occ_cnt': 'count'})\n",
    "        data = pd.merge(data, item_shop_cnt, on=[col, 'user_occupation_id'], how='left')\n",
    "        data[str(col) + '_user_occ_prob'] = data[str(col) + '_user_occ_cnt'] / data['user_occ_cnt']\n",
    "\n",
    "    return data\n",
    "final_df = user_item(final_df)"
   ]
  },
  {
   "cell_type": "code",
   "execution_count": 71,
   "metadata": {},
   "outputs": [
    {
     "name": "stdout",
     "output_type": "stream",
     "text": [
      "一个user有多少shop_id,shop_review_num_level……\n",
      "一个user_gender有多少shop_id,shop_review_num_level……\n",
      "一个user_age_level有多少shop_id,shop_review_num_level……\n",
      "一个user_occupation_id有多少shop_id,shop_review_num_level……\n",
      "一个shop有多少item_id,item_brand_id,item_city_id,item_price_level……\n",
      "一个shop_review_num_level有多少item_id,item_brand_id,item_city_id,item_price_level……\n"
     ]
    }
   ],
   "source": [
    "def user_shop(data):\n",
    "    print('一个user有多少shop_id,shop_review_num_level……')\n",
    "\n",
    "    for col in ['shop_id', 'shop_review_num_level', 'shop_star_level']:\n",
    "        item_shop_cnt = data.groupby([col, 'user_id'], as_index=False)['instance_id'].agg(\n",
    "            {str(col) + '_user_cnt': 'count'})\n",
    "        data = pd.merge(data, item_shop_cnt, on=[col, 'user_id'], how='left')\n",
    "        data[str(col) + '_user_prob'] = data[str(col) + '_user_cnt'] / data['user_cnt']\n",
    "    del data['user_cnt']\n",
    "\n",
    "    print('一个user_gender有多少shop_id,shop_review_num_level……')\n",
    "    for col in ['shop_id', 'shop_review_num_level', 'shop_star_level']:\n",
    "        item_shop_cnt = data.groupby([col, 'user_gender_id'], as_index=False)['instance_id'].agg(\n",
    "            {str(col) + '_user_gender_cnt': 'count'})\n",
    "        data = pd.merge(data, item_shop_cnt, on=[col, 'user_gender_id'], how='left')\n",
    "        data[str(col) + '_user_gender_prob'] = data[str(col) + '_user_gender_cnt'] / data['user_gender_cnt']\n",
    "    del data['user_gender_cnt']\n",
    "\n",
    "    print('一个user_age_level有多少shop_id,shop_review_num_level……')\n",
    "    for col in ['shop_id', 'shop_review_num_level', 'shop_star_level']:\n",
    "        item_shop_cnt = data.groupby([col, 'user_age_level'], as_index=False)['instance_id'].agg(\n",
    "            {str(col) + '_user_age_cnt': 'count'})\n",
    "        data = pd.merge(data, item_shop_cnt, on=[col, 'user_age_level'], how='left')\n",
    "        data[str(col) + '_user_age_prob'] = data[str(col) + '_user_age_cnt'] / data['user_age_cnt']\n",
    "    del data['user_age_cnt']\n",
    "\n",
    "    print('一个user_occupation_id有多少shop_id,shop_review_num_level……')\n",
    "    for col in ['shop_id', 'shop_review_num_level', 'shop_star_level']:\n",
    "        item_shop_cnt = data.groupby([col, 'user_occupation_id'], as_index=False)['instance_id'].agg(\n",
    "            {str(col) + '_user_occ_cnt': 'count'})\n",
    "        data = pd.merge(data, item_shop_cnt, on=[col, 'user_occupation_id'], how='left')\n",
    "        data[str(col) + '_user_occ_prob'] = data[str(col) + '_user_occ_cnt'] / data['user_occ_cnt']\n",
    "    del data['user_occ_cnt']\n",
    "\n",
    "    return data\n",
    "final_df = user_shop(final_df)\n",
    "def shop_item(data):\n",
    "    print('一个shop有多少item_id,item_brand_id,item_city_id,item_price_level……')\n",
    "    itemcnt = data.groupby(['shop_id'], as_index=False)['instance_id'].agg({'shop_cnt': 'count'})\n",
    "    data = pd.merge(data, itemcnt, on=['shop_id'], how='left')\n",
    "    for col in ['item_id',\n",
    "                'item_brand_id','item_city_id','item_price_level',\n",
    "                'item_sales_level','item_collected_level','item_pv_level']:\n",
    "        item_shop_cnt = data.groupby([col, 'shop_id'], as_index=False)['instance_id'].agg({str(col)+'_shop_cnt': 'count'})\n",
    "        data = pd.merge(data, item_shop_cnt, on=[col, 'shop_id'], how='left')\n",
    "        data[str(col) + '_shop_prob'] = data[str(col) + '_shop_cnt'] / data['shop_cnt']\n",
    "    del data['shop_cnt']\n",
    "\n",
    "    print('一个shop_review_num_level有多少item_id,item_brand_id,item_city_id,item_price_level……')\n",
    "    itemcnt = data.groupby(['shop_review_num_level'], as_index=False)['instance_id'].agg({'shop_rev_cnt': 'count'})\n",
    "    data = pd.merge(data, itemcnt, on=['shop_review_num_level'], how='left')\n",
    "    for col in ['item_id',\n",
    "                'item_brand_id','item_city_id','item_price_level',\n",
    "                'item_sales_level','item_collected_level','item_pv_level']:\n",
    "        item_shop_cnt = data.groupby([col, 'shop_review_num_level'], as_index=False)['instance_id'].agg({str(col)+'_shop_rev_cnt': 'count'})\n",
    "        data = pd.merge(data, item_shop_cnt, on=[col, 'shop_review_num_level'], how='left')\n",
    "        data[str(col) + '_shop_rev_prob'] = data[str(col) + '_shop_rev_cnt'] / data['shop_rev_cnt']\n",
    "    del data['shop_rev_cnt']\n",
    "    return data\n",
    "final_df = shop_item(final_df)"
   ]
  },
  {
   "cell_type": "markdown",
   "metadata": {},
   "source": [
    "## drop features"
   ]
  },
  {
   "cell_type": "code",
   "execution_count": 72,
   "metadata": {},
   "outputs": [],
   "source": [
    "instance_id_df = final_df['instance_id']\n",
    "final_df_ = final_df.drop(['instance_id', 'item_category_list', 'item_property_list', 'context_timestamp', 'time', 'predict_properties', 'predict_categories', 'predict_category_property', 'item_property_list_array'], axis=1)"
   ]
  },
  {
   "cell_type": "markdown",
   "metadata": {},
   "source": [
    "# split data into train valid and test set, shuffle it"
   ]
  },
  {
   "cell_type": "code",
   "execution_count": 103,
   "metadata": {},
   "outputs": [],
   "source": [
    "train_X, valid_X, test_offline_X, test_X = final_df_[final_df.day < 23].as_matrix(), final_df_[final_df.day == 23].as_matrix(), final_df_[final_df.day == 24].as_matrix(), final_df_[final_df.day == 25].as_matrix()\n",
    "train_Y, valid_Y, test_offline_Y  = raw_df[raw_df.day < 23]['is_trade'].as_matrix(), raw_df[raw_df.day == 23]['is_trade'].as_matrix(), raw_df[raw_df.day == 24]['is_trade'].as_matrix()"
   ]
  },
  {
   "cell_type": "code",
   "execution_count": 104,
   "metadata": {},
   "outputs": [],
   "source": [
    "train_X, train_Y = shuffle(train_X, train_Y, random_state=0)"
   ]
  },
  {
   "cell_type": "markdown",
   "metadata": {},
   "source": [
    "#  LGBM"
   ]
  },
  {
   "cell_type": "code",
   "execution_count": null,
   "metadata": {},
   "outputs": [],
   "source": [
    "# param_test7 = {\n",
    "# 'n_estimators':[20]\n",
    "# }\n",
    "# clf = GridSearchCV(lgb.LGBMClassifier(objective='binary',\n",
    "#      num_leaves=64,\n",
    "#      learning_rate=0.01,\n",
    "#      n_estimators=2000,\n",
    "#      max_depth=7,\n",
    "#      min_samples_split=100),\n",
    "#      param_test7,\n",
    "#      verbose=1,\n",
    "#      cv=5,\n",
    "#      scoring='log_loss',\n",
    "#      n_jobs=4)\n",
    "# clf.fit(train_X,train_Y)"
   ]
  },
  {
   "cell_type": "code",
   "execution_count": 105,
   "metadata": {
    "scrolled": true
   },
   "outputs": [
    {
     "name": "stdout",
     "output_type": "stream",
     "text": [
      "[1]\tvalid_0's binary_logloss: 0.647826\n",
      "Training until validation scores don't improve for 100 rounds.\n",
      "[2]\tvalid_0's binary_logloss: 0.606811\n",
      "[3]\tvalid_0's binary_logloss: 0.569539\n",
      "[4]\tvalid_0's binary_logloss: 0.535546\n",
      "[5]\tvalid_0's binary_logloss: 0.504417\n",
      "[6]\tvalid_0's binary_logloss: 0.475856\n",
      "[7]\tvalid_0's binary_logloss: 0.44954\n",
      "[8]\tvalid_0's binary_logloss: 0.425281\n",
      "[9]\tvalid_0's binary_logloss: 0.402847\n",
      "[10]\tvalid_0's binary_logloss: 0.38207\n",
      "[11]\tvalid_0's binary_logloss: 0.362802\n",
      "[12]\tvalid_0's binary_logloss: 0.344893\n",
      "[13]\tvalid_0's binary_logloss: 0.328255\n",
      "[14]\tvalid_0's binary_logloss: 0.312749\n",
      "[15]\tvalid_0's binary_logloss: 0.298293\n",
      "[16]\tvalid_0's binary_logloss: 0.284811\n",
      "[17]\tvalid_0's binary_logloss: 0.272226\n",
      "[18]\tvalid_0's binary_logloss: 0.260447\n",
      "[19]\tvalid_0's binary_logloss: 0.249436\n",
      "[20]\tvalid_0's binary_logloss: 0.239124\n",
      "[21]\tvalid_0's binary_logloss: 0.229473\n",
      "[22]\tvalid_0's binary_logloss: 0.220434\n",
      "[23]\tvalid_0's binary_logloss: 0.211968\n",
      "[24]\tvalid_0's binary_logloss: 0.204021\n",
      "[25]\tvalid_0's binary_logloss: 0.196577\n",
      "[26]\tvalid_0's binary_logloss: 0.189591\n",
      "[27]\tvalid_0's binary_logloss: 0.183021\n",
      "[28]\tvalid_0's binary_logloss: 0.17686\n",
      "[29]\tvalid_0's binary_logloss: 0.171065\n",
      "[30]\tvalid_0's binary_logloss: 0.165636\n",
      "[31]\tvalid_0's binary_logloss: 0.160531\n",
      "[32]\tvalid_0's binary_logloss: 0.155734\n",
      "[33]\tvalid_0's binary_logloss: 0.15123\n",
      "[34]\tvalid_0's binary_logloss: 0.147001\n",
      "[35]\tvalid_0's binary_logloss: 0.143024\n",
      "[36]\tvalid_0's binary_logloss: 0.139285\n",
      "[37]\tvalid_0's binary_logloss: 0.135766\n",
      "[38]\tvalid_0's binary_logloss: 0.13246\n",
      "[39]\tvalid_0's binary_logloss: 0.129364\n",
      "[40]\tvalid_0's binary_logloss: 0.126447\n",
      "[41]\tvalid_0's binary_logloss: 0.123705\n",
      "[42]\tvalid_0's binary_logloss: 0.121138\n",
      "[43]\tvalid_0's binary_logloss: 0.118737\n",
      "[44]\tvalid_0's binary_logloss: 0.11648\n",
      "[45]\tvalid_0's binary_logloss: 0.11436\n",
      "[46]\tvalid_0's binary_logloss: 0.112365\n",
      "[47]\tvalid_0's binary_logloss: 0.110505\n",
      "[48]\tvalid_0's binary_logloss: 0.108755\n",
      "[49]\tvalid_0's binary_logloss: 0.107097\n",
      "[50]\tvalid_0's binary_logloss: 0.10555\n",
      "[51]\tvalid_0's binary_logloss: 0.104105\n",
      "[52]\tvalid_0's binary_logloss: 0.102747\n",
      "[53]\tvalid_0's binary_logloss: 0.101467\n",
      "[54]\tvalid_0's binary_logloss: 0.100272\n",
      "[55]\tvalid_0's binary_logloss: 0.0991524\n",
      "[56]\tvalid_0's binary_logloss: 0.0980951\n",
      "[57]\tvalid_0's binary_logloss: 0.0971103\n",
      "[58]\tvalid_0's binary_logloss: 0.0961943\n",
      "[59]\tvalid_0's binary_logloss: 0.0953305\n",
      "[60]\tvalid_0's binary_logloss: 0.0945234\n",
      "[61]\tvalid_0's binary_logloss: 0.0937806\n",
      "[62]\tvalid_0's binary_logloss: 0.0930751\n",
      "[63]\tvalid_0's binary_logloss: 0.0924107\n",
      "[64]\tvalid_0's binary_logloss: 0.0917959\n",
      "[65]\tvalid_0's binary_logloss: 0.0912222\n",
      "[66]\tvalid_0's binary_logloss: 0.0907062\n",
      "[67]\tvalid_0's binary_logloss: 0.0902101\n",
      "[68]\tvalid_0's binary_logloss: 0.0897396\n",
      "[69]\tvalid_0's binary_logloss: 0.0892981\n",
      "[70]\tvalid_0's binary_logloss: 0.0888939\n",
      "[71]\tvalid_0's binary_logloss: 0.088529\n",
      "[72]\tvalid_0's binary_logloss: 0.0881598\n",
      "[73]\tvalid_0's binary_logloss: 0.0878292\n",
      "[74]\tvalid_0's binary_logloss: 0.0875255\n",
      "[75]\tvalid_0's binary_logloss: 0.0872381\n",
      "[76]\tvalid_0's binary_logloss: 0.0869627\n",
      "[77]\tvalid_0's binary_logloss: 0.0867032\n",
      "[78]\tvalid_0's binary_logloss: 0.0864661\n",
      "[79]\tvalid_0's binary_logloss: 0.0862389\n",
      "[80]\tvalid_0's binary_logloss: 0.0860386\n",
      "[81]\tvalid_0's binary_logloss: 0.0858601\n",
      "[82]\tvalid_0's binary_logloss: 0.0856805\n",
      "[83]\tvalid_0's binary_logloss: 0.0855181\n",
      "[84]\tvalid_0's binary_logloss: 0.0853563\n",
      "[85]\tvalid_0's binary_logloss: 0.0851926\n",
      "[86]\tvalid_0's binary_logloss: 0.0850639\n",
      "[87]\tvalid_0's binary_logloss: 0.0849425\n",
      "[88]\tvalid_0's binary_logloss: 0.0848206\n",
      "[89]\tvalid_0's binary_logloss: 0.0847102\n",
      "[90]\tvalid_0's binary_logloss: 0.0846001\n",
      "[91]\tvalid_0's binary_logloss: 0.0845126\n",
      "[92]\tvalid_0's binary_logloss: 0.0844191\n",
      "[93]\tvalid_0's binary_logloss: 0.0843295\n",
      "[94]\tvalid_0's binary_logloss: 0.0842417\n",
      "[95]\tvalid_0's binary_logloss: 0.0841496\n",
      "[96]\tvalid_0's binary_logloss: 0.0840678\n",
      "[97]\tvalid_0's binary_logloss: 0.0839997\n",
      "[98]\tvalid_0's binary_logloss: 0.0839261\n",
      "[99]\tvalid_0's binary_logloss: 0.0838562\n",
      "[100]\tvalid_0's binary_logloss: 0.0838015\n",
      "[101]\tvalid_0's binary_logloss: 0.0837522\n",
      "[102]\tvalid_0's binary_logloss: 0.0837046\n",
      "[103]\tvalid_0's binary_logloss: 0.083647\n",
      "[104]\tvalid_0's binary_logloss: 0.0835996\n",
      "[105]\tvalid_0's binary_logloss: 0.0835563\n",
      "[106]\tvalid_0's binary_logloss: 0.0835231\n",
      "[107]\tvalid_0's binary_logloss: 0.0834761\n",
      "[108]\tvalid_0's binary_logloss: 0.0834394\n",
      "[109]\tvalid_0's binary_logloss: 0.0834012\n",
      "[110]\tvalid_0's binary_logloss: 0.0833788\n",
      "[111]\tvalid_0's binary_logloss: 0.0833503\n",
      "[112]\tvalid_0's binary_logloss: 0.0833426\n",
      "[113]\tvalid_0's binary_logloss: 0.0833152\n",
      "[114]\tvalid_0's binary_logloss: 0.0832954\n",
      "[115]\tvalid_0's binary_logloss: 0.0832719\n",
      "[116]\tvalid_0's binary_logloss: 0.0832548\n",
      "[117]\tvalid_0's binary_logloss: 0.0832129\n",
      "[118]\tvalid_0's binary_logloss: 0.083181\n",
      "[119]\tvalid_0's binary_logloss: 0.0831424\n",
      "[120]\tvalid_0's binary_logloss: 0.0831298\n",
      "[121]\tvalid_0's binary_logloss: 0.0831035\n",
      "[122]\tvalid_0's binary_logloss: 0.0830825\n",
      "[123]\tvalid_0's binary_logloss: 0.083042\n",
      "[124]\tvalid_0's binary_logloss: 0.0830102\n",
      "[125]\tvalid_0's binary_logloss: 0.0830068\n",
      "[126]\tvalid_0's binary_logloss: 0.0829942\n",
      "[127]\tvalid_0's binary_logloss: 0.0829731\n",
      "[128]\tvalid_0's binary_logloss: 0.0829562\n",
      "[129]\tvalid_0's binary_logloss: 0.0829516\n",
      "[130]\tvalid_0's binary_logloss: 0.0829364\n",
      "[131]\tvalid_0's binary_logloss: 0.0829408\n",
      "[132]\tvalid_0's binary_logloss: 0.0829302\n",
      "[133]\tvalid_0's binary_logloss: 0.0829347\n",
      "[134]\tvalid_0's binary_logloss: 0.0829298\n",
      "[135]\tvalid_0's binary_logloss: 0.082886\n",
      "[136]\tvalid_0's binary_logloss: 0.0828799\n",
      "[137]\tvalid_0's binary_logloss: 0.0828742\n",
      "[138]\tvalid_0's binary_logloss: 0.0828526\n",
      "[139]\tvalid_0's binary_logloss: 0.0828383\n",
      "[140]\tvalid_0's binary_logloss: 0.0828288\n",
      "[141]\tvalid_0's binary_logloss: 0.0828328\n",
      "[142]\tvalid_0's binary_logloss: 0.0828341\n",
      "[143]\tvalid_0's binary_logloss: 0.0828242\n",
      "[144]\tvalid_0's binary_logloss: 0.082817\n",
      "[145]\tvalid_0's binary_logloss: 0.0828144\n",
      "[146]\tvalid_0's binary_logloss: 0.0828093\n",
      "[147]\tvalid_0's binary_logloss: 0.0827934\n",
      "[148]\tvalid_0's binary_logloss: 0.08278\n",
      "[149]\tvalid_0's binary_logloss: 0.0827754\n",
      "[150]\tvalid_0's binary_logloss: 0.0827835\n",
      "[151]\tvalid_0's binary_logloss: 0.0827831\n",
      "[152]\tvalid_0's binary_logloss: 0.0827838\n",
      "[153]\tvalid_0's binary_logloss: 0.08278\n",
      "[154]\tvalid_0's binary_logloss: 0.082779\n",
      "[155]\tvalid_0's binary_logloss: 0.0827761\n",
      "[156]\tvalid_0's binary_logloss: 0.082773\n",
      "[157]\tvalid_0's binary_logloss: 0.0827774\n",
      "[158]\tvalid_0's binary_logloss: 0.0827703\n",
      "[159]\tvalid_0's binary_logloss: 0.0827653\n",
      "[160]\tvalid_0's binary_logloss: 0.0827731\n",
      "[161]\tvalid_0's binary_logloss: 0.082776\n",
      "[162]\tvalid_0's binary_logloss: 0.0827688\n",
      "[163]\tvalid_0's binary_logloss: 0.0827645\n",
      "[164]\tvalid_0's binary_logloss: 0.0827628\n",
      "[165]\tvalid_0's binary_logloss: 0.0827622\n",
      "[166]\tvalid_0's binary_logloss: 0.082742\n",
      "[167]\tvalid_0's binary_logloss: 0.0827414\n",
      "[168]\tvalid_0's binary_logloss: 0.0827348\n",
      "[169]\tvalid_0's binary_logloss: 0.0827322\n",
      "[170]\tvalid_0's binary_logloss: 0.0827371\n",
      "[171]\tvalid_0's binary_logloss: 0.0827218\n",
      "[172]\tvalid_0's binary_logloss: 0.0827247\n",
      "[173]\tvalid_0's binary_logloss: 0.082725\n",
      "[174]\tvalid_0's binary_logloss: 0.082731\n",
      "[175]\tvalid_0's binary_logloss: 0.082729\n",
      "[176]\tvalid_0's binary_logloss: 0.0827319\n",
      "[177]\tvalid_0's binary_logloss: 0.0827329\n",
      "[178]\tvalid_0's binary_logloss: 0.082734\n",
      "[179]\tvalid_0's binary_logloss: 0.0827205\n",
      "[180]\tvalid_0's binary_logloss: 0.0827211\n",
      "[181]\tvalid_0's binary_logloss: 0.0827221\n",
      "[182]\tvalid_0's binary_logloss: 0.0827145\n",
      "[183]\tvalid_0's binary_logloss: 0.0827205\n",
      "[184]\tvalid_0's binary_logloss: 0.0827208\n",
      "[185]\tvalid_0's binary_logloss: 0.0827125\n",
      "[186]\tvalid_0's binary_logloss: 0.0827066\n",
      "[187]\tvalid_0's binary_logloss: 0.0827106\n",
      "[188]\tvalid_0's binary_logloss: 0.0827181\n",
      "[189]\tvalid_0's binary_logloss: 0.082726\n",
      "[190]\tvalid_0's binary_logloss: 0.0827293\n",
      "[191]\tvalid_0's binary_logloss: 0.0827363\n",
      "[192]\tvalid_0's binary_logloss: 0.082741\n",
      "[193]\tvalid_0's binary_logloss: 0.0827444\n",
      "[194]\tvalid_0's binary_logloss: 0.0827489\n",
      "[195]\tvalid_0's binary_logloss: 0.0827586\n",
      "[196]\tvalid_0's binary_logloss: 0.0827578\n",
      "[197]\tvalid_0's binary_logloss: 0.0827567\n",
      "[198]\tvalid_0's binary_logloss: 0.0827534\n",
      "[199]\tvalid_0's binary_logloss: 0.0827427\n",
      "[200]\tvalid_0's binary_logloss: 0.0827343\n",
      "[201]\tvalid_0's binary_logloss: 0.0827439\n"
     ]
    },
    {
     "name": "stdout",
     "output_type": "stream",
     "text": [
      "[202]\tvalid_0's binary_logloss: 0.0827532\n",
      "[203]\tvalid_0's binary_logloss: 0.0827573\n",
      "[204]\tvalid_0's binary_logloss: 0.0827597\n",
      "[205]\tvalid_0's binary_logloss: 0.0827609\n",
      "[206]\tvalid_0's binary_logloss: 0.0827548\n",
      "[207]\tvalid_0's binary_logloss: 0.0827575\n",
      "[208]\tvalid_0's binary_logloss: 0.0827595\n",
      "[209]\tvalid_0's binary_logloss: 0.0827558\n",
      "[210]\tvalid_0's binary_logloss: 0.0827608\n",
      "[211]\tvalid_0's binary_logloss: 0.0827711\n",
      "[212]\tvalid_0's binary_logloss: 0.082763\n",
      "[213]\tvalid_0's binary_logloss: 0.0827675\n",
      "[214]\tvalid_0's binary_logloss: 0.0827611\n",
      "[215]\tvalid_0's binary_logloss: 0.0827659\n",
      "[216]\tvalid_0's binary_logloss: 0.0827689\n",
      "[217]\tvalid_0's binary_logloss: 0.0827738\n",
      "[218]\tvalid_0's binary_logloss: 0.0827771\n",
      "[219]\tvalid_0's binary_logloss: 0.0827848\n",
      "[220]\tvalid_0's binary_logloss: 0.0827942\n",
      "[221]\tvalid_0's binary_logloss: 0.082801\n",
      "[222]\tvalid_0's binary_logloss: 0.0827868\n",
      "[223]\tvalid_0's binary_logloss: 0.0827861\n",
      "[224]\tvalid_0's binary_logloss: 0.0827913\n",
      "[225]\tvalid_0's binary_logloss: 0.0828115\n",
      "[226]\tvalid_0's binary_logloss: 0.0828072\n",
      "[227]\tvalid_0's binary_logloss: 0.0828185\n",
      "[228]\tvalid_0's binary_logloss: 0.0828233\n",
      "[229]\tvalid_0's binary_logloss: 0.0828206\n",
      "[230]\tvalid_0's binary_logloss: 0.0828248\n",
      "[231]\tvalid_0's binary_logloss: 0.0828383\n",
      "[232]\tvalid_0's binary_logloss: 0.0828512\n",
      "[233]\tvalid_0's binary_logloss: 0.0828614\n",
      "[234]\tvalid_0's binary_logloss: 0.0828471\n",
      "[235]\tvalid_0's binary_logloss: 0.0828381\n",
      "[236]\tvalid_0's binary_logloss: 0.0828457\n",
      "[237]\tvalid_0's binary_logloss: 0.0828519\n",
      "[238]\tvalid_0's binary_logloss: 0.0828562\n",
      "[239]\tvalid_0's binary_logloss: 0.0828635\n",
      "[240]\tvalid_0's binary_logloss: 0.0828684\n",
      "[241]\tvalid_0's binary_logloss: 0.0828741\n",
      "[242]\tvalid_0's binary_logloss: 0.0828807\n",
      "[243]\tvalid_0's binary_logloss: 0.0828892\n",
      "[244]\tvalid_0's binary_logloss: 0.082893\n",
      "[245]\tvalid_0's binary_logloss: 0.0828943\n",
      "[246]\tvalid_0's binary_logloss: 0.0828937\n",
      "[247]\tvalid_0's binary_logloss: 0.0828887\n",
      "[248]\tvalid_0's binary_logloss: 0.082897\n",
      "[249]\tvalid_0's binary_logloss: 0.0828981\n",
      "[250]\tvalid_0's binary_logloss: 0.0829023\n",
      "[251]\tvalid_0's binary_logloss: 0.0829026\n",
      "[252]\tvalid_0's binary_logloss: 0.0828943\n",
      "[253]\tvalid_0's binary_logloss: 0.082891\n",
      "[254]\tvalid_0's binary_logloss: 0.082902\n",
      "[255]\tvalid_0's binary_logloss: 0.0829024\n",
      "[256]\tvalid_0's binary_logloss: 0.0829067\n",
      "[257]\tvalid_0's binary_logloss: 0.0829035\n",
      "[258]\tvalid_0's binary_logloss: 0.0828922\n",
      "[259]\tvalid_0's binary_logloss: 0.0828886\n",
      "[260]\tvalid_0's binary_logloss: 0.0828954\n",
      "[261]\tvalid_0's binary_logloss: 0.082896\n",
      "[262]\tvalid_0's binary_logloss: 0.0828996\n",
      "[263]\tvalid_0's binary_logloss: 0.0829042\n",
      "[264]\tvalid_0's binary_logloss: 0.0829054\n",
      "[265]\tvalid_0's binary_logloss: 0.0829094\n",
      "[266]\tvalid_0's binary_logloss: 0.082922\n",
      "[267]\tvalid_0's binary_logloss: 0.0829121\n",
      "[268]\tvalid_0's binary_logloss: 0.0829136\n",
      "[269]\tvalid_0's binary_logloss: 0.0829157\n",
      "[270]\tvalid_0's binary_logloss: 0.0829168\n",
      "[271]\tvalid_0's binary_logloss: 0.0829176\n",
      "[272]\tvalid_0's binary_logloss: 0.0829096\n",
      "[273]\tvalid_0's binary_logloss: 0.0829144\n",
      "[274]\tvalid_0's binary_logloss: 0.0829175\n",
      "[275]\tvalid_0's binary_logloss: 0.0829226\n",
      "[276]\tvalid_0's binary_logloss: 0.0829192\n",
      "[277]\tvalid_0's binary_logloss: 0.082919\n",
      "[278]\tvalid_0's binary_logloss: 0.0829274\n",
      "[279]\tvalid_0's binary_logloss: 0.0829381\n",
      "[280]\tvalid_0's binary_logloss: 0.082927\n",
      "[281]\tvalid_0's binary_logloss: 0.0829321\n",
      "[282]\tvalid_0's binary_logloss: 0.0829414\n",
      "[283]\tvalid_0's binary_logloss: 0.0829449\n",
      "[284]\tvalid_0's binary_logloss: 0.0829476\n",
      "[285]\tvalid_0's binary_logloss: 0.0829514\n",
      "[286]\tvalid_0's binary_logloss: 0.0829461\n",
      "Early stopping, best iteration is:\n",
      "[186]\tvalid_0's binary_logloss: 0.0827066\n"
     ]
    },
    {
     "data": {
      "text/plain": [
       "LGBMClassifier(boosting_type='gbdt', class_weight=None, colsample_bytree=0.8,\n",
       "        depth=8, learning_rate=0.05, max_depth=-1, min_child_samples=20,\n",
       "        min_child_weight=0.001, min_split_gain=0.0, n_estimators=20000,\n",
       "        n_jobs=-1, num_leaves=35, objective='binary', random_state=None,\n",
       "        reg_alpha=0.0, reg_lambda=0.0, seed=2018, silent=True,\n",
       "        subsample=0.9, subsample_for_bin=200000, subsample_freq=1)"
      ]
     },
     "execution_count": 105,
     "metadata": {},
     "output_type": "execute_result"
    }
   ],
   "source": [
    "gbm = lgb.LGBMClassifier(\n",
    "        objective='binary',\n",
    "        # metric='binary_error',\n",
    "        num_leaves=35,\n",
    "        depth=8,\n",
    "        learning_rate=0.05,\n",
    "        seed=2018,\n",
    "        colsample_bytree=0.8,\n",
    "        # min_child_samples=8,\n",
    "        subsample=0.9,\n",
    "        n_estimators=20000)\n",
    "gbm.fit(train_X, train_Y,\n",
    "#         feature_name = list(trainX.columns.values),\n",
    "        eval_set=[(valid_X, valid_Y)],\n",
    "        eval_metric='binary_logloss',\n",
    "        early_stopping_rounds=100\n",
    "       )"
   ]
  },
  {
   "cell_type": "code",
   "execution_count": 94,
   "metadata": {},
   "outputs": [],
   "source": [
    "best_iter = gbm.best_iteration_"
   ]
  },
  {
   "cell_type": "code",
   "execution_count": 96,
   "metadata": {},
   "outputs": [
    {
     "name": "stdout",
     "output_type": "stream",
     "text": [
      "offline log_loss is : 0.08141735780488803\n"
     ]
    }
   ],
   "source": [
    "print('offline log_loss is : {}'.format(log_loss(test_offline_Y, gbm.predict_proba(test_offline_X)[:, 1])))"
   ]
  },
  {
   "cell_type": "code",
   "execution_count": 82,
   "metadata": {},
   "outputs": [
    {
     "data": {
      "text/plain": [
       "<matplotlib.axes._subplots.AxesSubplot at 0xbed36eb8>"
      ]
     },
     "execution_count": 82,
     "metadata": {},
     "output_type": "execute_result"
    },
    {
     "data": {
      "image/png": "[encoded data removed]",
      "text/plain": [
       "<matplotlib.figure.Figure at 0xbed366d8>"
      ]
     },
     "metadata": {},
     "output_type": "display_data"
    }
   ],
   "source": [
    "lgb.plot_importance(gbm)"
   ]
  },
  {
   "cell_type": "code",
   "execution_count": 107,
   "metadata": {},
   "outputs": [],
   "source": [
    "lgb.**?"
   ]
  },
  {
   "cell_type": "markdown",
   "metadata": {},
   "source": [
    "# train whole data"
   ]
  },
  {
   "cell_type": "code",
   "execution_count": 97,
   "metadata": {},
   "outputs": [],
   "source": [
    "train_X, predict_X = final_df_[final_df.day < 25].as_matrix(), final_df_[final_df.day == 25].as_matrix()\n",
    "train_Y = raw_df[raw_df.day < 25]['is_trade'].as_matrix()"
   ]
  },
  {
   "cell_type": "code",
   "execution_count": 98,
   "metadata": {},
   "outputs": [],
   "source": [
    "train_X, train_Y = shuffle(train_X, train_Y, random_state=0)"
   ]
  },
  {
   "cell_type": "code",
   "execution_count": 99,
   "metadata": {},
   "outputs": [
    {
     "name": "stdout",
     "output_type": "stream",
     "text": [
      "offline log_loss is : 0.07511315734769095\n"
     ]
    }
   ],
   "source": [
    "final_gbm = lgb.LGBMClassifier(\n",
    "        objective='binary',\n",
    "        # metric='binary_error',\n",
    "        num_leaves=35,\n",
    "        depth=8,\n",
    "        learning_rate=0.05,\n",
    "        seed=2018,\n",
    "        colsample_bytree=0.8,\n",
    "        # min_child_samples=8,\n",
    "        subsample=0.9,\n",
    "        n_estimators=best_iter)\n",
    "final_gbm.fit(train_X, train_Y)\n",
    "print('offline log_loss is : {}'.format(log_loss(valid_Y, final_gbm.predict_proba(valid_X)[:, 1])))"
   ]
  },
  {
   "cell_type": "code",
   "execution_count": 100,
   "metadata": {},
   "outputs": [],
   "source": [
    "result_properties = final_gbm.predict_proba(test_X)[:, 1]\n",
    "result_df = pd.concat([test_df['instance_id'], pd.DataFrame(data=result_properties, columns=['predicted_score'])], axis=1)\n",
    "result_df.to_csv('../total_data/baseline_20180402.txt', index=False, sep=' ')"
   ]
  },
  {
   "cell_type": "markdown",
   "metadata": {},
   "source": [
    "# Logistic Regression"
   ]
  },
  {
   "cell_type": "code",
   "execution_count": null,
   "metadata": {},
   "outputs": [],
   "source": [
    "# from sklearn.linear_model import LogisticRegression"
   ]
  },
  {
   "cell_type": "code",
   "execution_count": null,
   "metadata": {},
   "outputs": [],
   "source": [
    "# from sklearn.metrics import log_loss"
   ]
  },
  {
   "cell_type": "code",
   "execution_count": null,
   "metadata": {},
   "outputs": [],
   "source": [
    "# lr = LogisticRegression()"
   ]
  },
  {
   "cell_type": "code",
   "execution_count": null,
   "metadata": {},
   "outputs": [],
   "source": [
    "# lr.fit(train_X, train_Y)\n",
    "# print(log_loss(valid_Y, lr.predict_proba(valid_X)[:, 1]))"
   ]
  }
 ],
 "metadata": {
  "kernelspec": {
   "display_name": "Python 3",
   "language": "python",
   "name": "python3"
  },
  "language_info": {
   "codemirror_mode": {
    "name": "ipython",
    "version": 3
   },
   "file_extension": ".py",
   "mimetype": "text/x-python",
   "name": "python",
   "nbconvert_exporter": "python",
   "pygments_lexer": "ipython3",
   "version": "3.6.4"
  }
 },
 "nbformat": 4,
 "nbformat_minor": 2
}
