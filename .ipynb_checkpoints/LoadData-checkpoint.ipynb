{
 "cells": [
  {
   "cell_type": "code",
   "execution_count": 4,
   "metadata": {},
   "outputs": [],
   "source": [
    "import pandas as pd\n",
    "import time"
   ]
  },
  {
   "cell_type": "code",
   "execution_count": 5,
   "metadata": {},
   "outputs": [],
   "source": [
    "path = '../RawData/round1_ijcai_18_train_20180301.txt'\n",
    "test_path = '../RawData/round1_ijcai_18_test_a_20180301.txt'"
   ]
  },
  {
   "cell_type": "code",
   "execution_count": 6,
   "metadata": {},
   "outputs": [],
   "source": [
    "def process_rawdata(path):\n",
    "    raw_df = pd.read_table(path, header=0, sep=' ').drop_duplicates().drop([\n",
    "            'item_id', 'user_id', 'context_id', 'shop_id'], axis=1).reset_index(drop=True)\n",
    "    # raw_df['context_time'] = raw_df.apply(lambda item: time.ctime(item.context_timestamp), axis=1)\n",
    "\n",
    "#     ad_info_columns = ['item_category_list', 'item_property_list', 'item_brand_id', \n",
    "#                    'item_city_id','item_price_level','item_sales_level','item_collected_level','item_pv_level']\n",
    "#     user_info_columns = ['user_gender_id', 'user_age_level', 'user_occupation_id', 'user_star_level']\n",
    "#     context_info_columns = ['context_timestamp', 'context_page_id', 'predict_category_property']\n",
    "#     shop_info_columns = ['shop_review_num_level', 'shop_review_positive_rate', 'shop_star_level', \n",
    "#                          'shop_score_service', 'shop_score_delivery', 'shop_score_description']\n",
    "#     result_columns = ['is_trade']\n",
    "\n",
    "    raw_df['time'] = raw_df.context_timestamp.apply(lambda value: time.strftime('%Y-%m-%d %H:%M:%S', time.localtime(value)))\n",
    "    raw_df['day'] = raw_df.time.apply(lambda x: int(x[8:10]))\n",
    "    raw_df['hour'] = raw_df.time.apply(lambda x: int(x[11:13]))\n",
    "    return raw_df"
   ]
  },
  {
   "cell_type": "code",
   "execution_count": 7,
   "metadata": {},
   "outputs": [],
   "source": [
    "raw_df = process_rawdata('../RawData/round1_ijcai_18_train_20180301.txt')\n",
    "test_df = process_rawdata('../RawData/round1_ijcai_18_test_a_20180301.txt')"
   ]
  },
  {
   "cell_type": "code",
   "execution_count": null,
   "metadata": {},
   "outputs": [],
   "source": []
  }
 ],
 "metadata": {
  "kernelspec": {
   "display_name": "Python 3",
   "language": "python",
   "name": "python3"
  },
  "language_info": {
   "codemirror_mode": {
    "name": "ipython",
    "version": 3
   },
   "file_extension": ".py",
   "mimetype": "text/x-python",
   "name": "python",
   "nbconvert_exporter": "python",
   "pygments_lexer": "ipython3",
   "version": "3.6.4"
  }
 },
 "nbformat": 4,
 "nbformat_minor": 2
}
