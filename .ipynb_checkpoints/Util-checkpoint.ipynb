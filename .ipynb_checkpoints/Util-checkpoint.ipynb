{
 "cells": [
  {
   "cell_type": "code",
   "execution_count": 1,
   "metadata": {},
   "outputs": [],
   "source": [
    "import itertools"
   ]
  },
  {
   "cell_type": "code",
   "execution_count": 2,
   "metadata": {},
   "outputs": [],
   "source": [
    "def getAllTypesofCategory(raw_df, column_name):\n",
    "    result = {}\n",
    "    one_level_category = []\n",
    "    second_level_category = []\n",
    "    third_level_category = []\n",
    "    for i in raw_df[column_name]:\n",
    "        item = list(map(int, i.split(';')))\n",
    "        if not item[0] in one_level_category: \n",
    "            one_level_category.append(item[0])\n",
    "        if not item[1] in second_level_category:\n",
    "            second_level_category.append(item[1])\n",
    "        if len(item) >2 :\n",
    "            if not item[2] in third_level_category:\n",
    "                third_level_category.append(item[2])\n",
    "    return one_level_category, second_level_category, third_level_category"
   ]
  },
  {
   "cell_type": "code",
   "execution_count": 3,
   "metadata": {},
   "outputs": [],
   "source": [
    "def getAllTypesOfProperty(raw_df, column_name):\n",
    "    _ = [map(int, i.split(';')) for i in raw_df[column_name]]\n",
    "    return list(set(itertools.chain(*_)))"
   ]
  }
 ],
 "metadata": {
  "kernelspec": {
   "display_name": "Python 3",
   "language": "python",
   "name": "python3"
  },
  "language_info": {
   "codemirror_mode": {
    "name": "ipython",
    "version": 3
   },
   "file_extension": ".py",
   "mimetype": "text/x-python",
   "name": "python",
   "nbconvert_exporter": "python",
   "pygments_lexer": "ipython3",
   "version": "3.6.4"
  }
 },
 "nbformat": 4,
 "nbformat_minor": 2
}
