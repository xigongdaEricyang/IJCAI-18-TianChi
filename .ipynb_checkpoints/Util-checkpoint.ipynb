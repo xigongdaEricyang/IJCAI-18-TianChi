{
 "cells": [
  {
   "cell_type": "code",
   "execution_count": null,
   "metadata": {},
   "outputs": [],
   "source": [
    "def getAllTypesofCategory(raw_df, column_name):\n",
    "    result = {}\n",
    "    one_level_category = []\n",
    "    second_level_category = []\n",
    "    third_level_category = []\n",
    "    for i in raw_df[column_name]:\n",
    "        item = i.split(';')\n",
    "        if not item[0] in one_level_category: \n",
    "            one_level_category.append(item[0])\n",
    "        if not item[1] in second_level_category:\n",
    "            second_level_category.append(item[1])\n",
    "        if len(item) >2 :\n",
    "            if not item[2] in third_level_category:\n",
    "                third_level_category.append(item[2])\n",
    "    return one_level_category, second_level_category, third_level_category"
   ]
  }
 ],
 "metadata": {
  "kernelspec": {
   "display_name": "Python 3",
   "language": "python",
   "name": "python3"
  },
  "language_info": {
   "codemirror_mode": {
    "name": "ipython",
    "version": 3
   },
   "file_extension": ".py",
   "mimetype": "text/x-python",
   "name": "python",
   "nbconvert_exporter": "python",
   "pygments_lexer": "ipython3",
   "version": "3.6.4"
  }
 },
 "nbformat": 4,
 "nbformat_minor": 2
}
