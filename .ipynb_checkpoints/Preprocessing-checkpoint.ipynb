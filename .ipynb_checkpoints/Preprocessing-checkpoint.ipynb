{
 "cells": [
  {
   "cell_type": "code",
   "execution_count": 1,
   "metadata": {},
   "outputs": [
    {
     "name": "stdout",
     "output_type": "stream",
     "text": [
      "importing Jupyter notebook from Util.ipynb\n"
     ]
    }
   ],
   "source": [
    "import import_ipynb\n",
    "from loadData import raw_df, ad_info_columns, user_info_columns, context_info_columns, shop_info_columns, result_columns,ad_info_df, user_info_df, context_info_df, shop_info_df, result_df\n",
    "# from EDA import draw_df_feature_frequency\n",
    "from Util import getAllTypesofCategory, getAllTypesOfProperty"
   ]
  },
  {
   "cell_type": "code",
   "execution_count": 2,
   "metadata": {},
   "outputs": [],
   "source": [
    "from sklearn.preprocessing import Imputer\n",
    "import numpy as np\n",
    "import itertools"
   ]
  },
  {
   "cell_type": "markdown",
   "metadata": {},
   "source": [
    "## impute missing value with most_frequent strategy"
   ]
  },
  {
   "cell_type": "code",
   "execution_count": 3,
   "metadata": {},
   "outputs": [],
   "source": [
    "contain_missing_value_columns = [\"item_brand_id\",\"item_city_id\",\"item_sales_level\",\"user_gender_id\",\"user_age_level\",\n",
    "                                \"user_occupation_id\",\"user_star_level\",\"shop_review_positive_rate\",\n",
    "                                \"shop_score_service\",\"shop_score_delivery\",\"shop_score_description\"]\n",
    "other_missing_value_columns = [\"predict_category_property\"]"
   ]
  },
  {
   "cell_type": "code",
   "execution_count": 4,
   "metadata": {},
   "outputs": [],
   "source": [
    "data_imputer = Imputer(missing_values=-1 , strategy='most_frequent', axis=0)\n",
    "raw_df[contain_missing_value_columns] = data_imputer.fit_transform(raw_df[contain_missing_value_columns])"
   ]
  },
  {
   "cell_type": "markdown",
   "metadata": {},
   "source": [
    "## processing the object column"
   ]
  },
  {
   "cell_type": "code",
   "execution_count": 5,
   "metadata": {},
   "outputs": [
    {
     "data": {
      "text/html": [
       "<div>\n",
       "<style scoped>\n",
       "    .dataframe tbody tr th:only-of-type {\n",
       "        vertical-align: middle;\n",
       "    }\n",
       "\n",
       "    .dataframe tbody tr th {\n",
       "        vertical-align: top;\n",
       "    }\n",
       "\n",
       "    .dataframe thead th {\n",
       "        text-align: right;\n",
       "    }\n",
       "</style>\n",
       "<table border=\"1\" class=\"dataframe\">\n",
       "  <thead>\n",
       "    <tr style=\"text-align: right;\">\n",
       "      <th></th>\n",
       "      <th>item_category_list</th>\n",
       "      <th>item_property_list</th>\n",
       "      <th>predict_category_property</th>\n",
       "    </tr>\n",
       "  </thead>\n",
       "  <tbody>\n",
       "    <tr>\n",
       "      <th>0</th>\n",
       "      <td>7908382889764677758;5799347067982556520</td>\n",
       "      <td>2072967855524022579;5131280576272319091;263639...</td>\n",
       "      <td>5799347067982556520:-1;509660095530134768:-1;5...</td>\n",
       "    </tr>\n",
       "    <tr>\n",
       "      <th>1</th>\n",
       "      <td>7908382889764677758;5799347067982556520</td>\n",
       "      <td>2072967855524022579;5131280576272319091;263639...</td>\n",
       "      <td>5799347067982556520:9172976955054793469;790838...</td>\n",
       "    </tr>\n",
       "    <tr>\n",
       "      <th>2</th>\n",
       "      <td>7908382889764677758;5799347067982556520</td>\n",
       "      <td>2072967855524022579;5131280576272319091;263639...</td>\n",
       "      <td>5799347067982556520:5131280576272319091;725801...</td>\n",
       "    </tr>\n",
       "    <tr>\n",
       "      <th>3</th>\n",
       "      <td>7908382889764677758;5799347067982556520</td>\n",
       "      <td>2072967855524022579;5131280576272319091;263639...</td>\n",
       "      <td>509660095530134768:-1;5799347067982556520:-1;7...</td>\n",
       "    </tr>\n",
       "    <tr>\n",
       "      <th>4</th>\n",
       "      <td>7908382889764677758;5799347067982556520</td>\n",
       "      <td>2072967855524022579;5131280576272319091;263639...</td>\n",
       "      <td>5799347067982556520:9172976955054793469;790838...</td>\n",
       "    </tr>\n",
       "  </tbody>\n",
       "</table>\n",
       "</div>"
      ],
      "text/plain": [
       "                        item_category_list  \\\n",
       "0  7908382889764677758;5799347067982556520   \n",
       "1  7908382889764677758;5799347067982556520   \n",
       "2  7908382889764677758;5799347067982556520   \n",
       "3  7908382889764677758;5799347067982556520   \n",
       "4  7908382889764677758;5799347067982556520   \n",
       "\n",
       "                                  item_property_list  \\\n",
       "0  2072967855524022579;5131280576272319091;263639...   \n",
       "1  2072967855524022579;5131280576272319091;263639...   \n",
       "2  2072967855524022579;5131280576272319091;263639...   \n",
       "3  2072967855524022579;5131280576272319091;263639...   \n",
       "4  2072967855524022579;5131280576272319091;263639...   \n",
       "\n",
       "                           predict_category_property  \n",
       "0  5799347067982556520:-1;509660095530134768:-1;5...  \n",
       "1  5799347067982556520:9172976955054793469;790838...  \n",
       "2  5799347067982556520:5131280576272319091;725801...  \n",
       "3  509660095530134768:-1;5799347067982556520:-1;7...  \n",
       "4  5799347067982556520:9172976955054793469;790838...  "
      ]
     },
     "execution_count": 5,
     "metadata": {},
     "output_type": "execute_result"
    }
   ],
   "source": [
    "object_columns = [\"item_category_list\", \"item_property_list\", \"predict_category_property\"]\n",
    "raw_df[object_columns].head()"
   ]
  },
  {
   "cell_type": "code",
   "execution_count": 6,
   "metadata": {},
   "outputs": [],
   "source": [
    "# split category_list to multi features\n",
    "def extract_item_category_list_func(item, num):\n",
    "    items = item.split(';')\n",
    "    if num >=2:\n",
    "        if len(items) > 2:\n",
    "            return int(items[num])\n",
    "        else:\n",
    "            return 0\n",
    "    else:\n",
    "        return int(items[num])\n",
    "def generate_item_category_features():\n",
    "    raw_df['item_one_level_category'] = raw_df['item_category_list'].apply(lambda item: extract_item_category_list_func(item, 0))\n",
    "    raw_df['item_second_level_category'] = raw_df['item_category_list'].apply(lambda item: extract_item_category_list_func(item, 1))\n",
    "    raw_df['item_third_level_category'] = raw_df['item_category_list'].apply(lambda item: extract_item_category_list_func(item, 2))\n",
    "#     raw_df.drop('item_category_list', axis=1)\n",
    "generate_item_category_features()"
   ]
  },
  {
   "cell_type": "code",
   "execution_count": 7,
   "metadata": {},
   "outputs": [],
   "source": [
    "# transform property_list\n",
    "extract_item_property_list_func = lambda item: list(map(int, item.split(';')))\n",
    "raw_df['item_property_list_array'] = raw_df['item_property_list'].apply(lambda item: extract_item_property_list_func(item))"
   ]
  },
  {
   "cell_type": "code",
   "execution_count": 13,
   "metadata": {},
   "outputs": [],
   "source": [
    "def getAllTypesofCategory1(raw_df, column_name):\n",
    "    result = {}\n",
    "    one_level_category = []\n",
    "    second_level_category = []\n",
    "    third_level_category = []\n",
    "    for i in raw_df[column_name]:\n",
    "        item = list(map(int, i.split(';')))\n",
    "        if not item[0] in one_level_category: \n",
    "            one_level_category.append(item[0])\n",
    "        if not item[1] in second_level_category:\n",
    "            second_level_category.append(item[1])\n",
    "        if len(item) >2 :\n",
    "            if not item[2] in third_level_category:\n",
    "                third_level_category.append(item[2])\n",
    "    return one_level_category, second_level_category, third_level_category"
   ]
  },
  {
   "cell_type": "code",
   "execution_count": 15,
   "metadata": {},
   "outputs": [
    {
     "ename": "TypeError",
     "evalue": "'map' object is not subscriptable",
     "output_type": "error",
     "traceback": [
      "\u001b[1;31m---------------------------------------------------------------------------\u001b[0m",
      "\u001b[1;31mTypeError\u001b[0m                                 Traceback (most recent call last)",
      "\u001b[1;32m<ipython-input-15-a714c2f4ac3f>\u001b[0m in \u001b[0;36m<module>\u001b[1;34m()\u001b[0m\n\u001b[1;32m----> 1\u001b[1;33m \u001b[0mone_level_category\u001b[0m\u001b[1;33m,\u001b[0m \u001b[0msecond_level_category\u001b[0m\u001b[1;33m,\u001b[0m \u001b[0mthird_level_category\u001b[0m \u001b[1;33m=\u001b[0m \u001b[0mgetAllTypesofCategory\u001b[0m\u001b[1;33m(\u001b[0m\u001b[0mraw_df\u001b[0m\u001b[1;33m,\u001b[0m \u001b[1;34m'item_category_list'\u001b[0m\u001b[1;33m)\u001b[0m\u001b[1;33m\u001b[0m\u001b[0m\n\u001b[0m\u001b[0;32m      2\u001b[0m \u001b[0mone_level_category\u001b[0m\u001b[1;33m\u001b[0m\u001b[0m\n",
      "\u001b[1;32m~\\Desktop\\IJCAI-18\\ETA\\Util.ipynb\u001b[0m in \u001b[0;36mgetAllTypesofCategory\u001b[1;34m(raw_df, column_name)\u001b[0m\n",
      "\u001b[1;31mTypeError\u001b[0m: 'map' object is not subscriptable"
     ]
    }
   ],
   "source": [
    "# one_level_category, second_level_category, third_level_category = getAllTypesofCategory(raw_df, 'item_category_list')\n",
    "# one_level_category"
   ]
  }
 ],
 "metadata": {
  "kernelspec": {
   "display_name": "Python 3",
   "language": "python",
   "name": "python3"
  },
  "language_info": {
   "codemirror_mode": {
    "name": "ipython",
    "version": 3
   },
   "file_extension": ".py",
   "mimetype": "text/x-python",
   "name": "python",
   "nbconvert_exporter": "python",
   "pygments_lexer": "ipython3",
   "version": "3.6.4"
  }
 },
 "nbformat": 4,
 "nbformat_minor": 2
}
